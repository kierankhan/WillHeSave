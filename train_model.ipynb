{
 "cells": [
  {
   "cell_type": "code",
   "execution_count": 111,
   "id": "initial_id",
   "metadata": {
    "collapsed": true,
    "ExecuteTime": {
     "end_time": "2024-02-27T23:52:55.361468100Z",
     "start_time": "2024-02-27T23:52:55.351122300Z"
    }
   },
   "outputs": [],
   "source": [
    "import pandas as pd\n",
    "import spotipy\n",
    "from spotipy.oauth2 import SpotifyClientCredentials\n",
    "import matplotlib.pyplot as plt\n",
    "import numpy as np\n",
    "from sklearn.model_selection import train_test_split\n",
    "import os"
   ]
  },
  {
   "cell_type": "code",
   "execution_count": 122,
   "outputs": [],
   "source": [
    "from util import keys\n",
    "cid = keys['CLIENT_ID']\n",
    "secret = keys['CLIENT_SECRET']\n",
    "client_credentials_manager = SpotifyClientCredentials(client_id=cid, client_secret=secret)\n",
    "sp = spotipy.Spotify(client_credentials_manager=client_credentials_manager)"
   ],
   "metadata": {
    "collapsed": false,
    "ExecuteTime": {
     "end_time": "2024-02-28T00:20:57.099880300Z",
     "start_time": "2024-02-28T00:20:56.989091300Z"
    }
   },
   "id": "ec7a7db68f6deb49"
  },
  {
   "cell_type": "code",
   "execution_count": 90,
   "outputs": [],
   "source": [
    "def create_df_from_playlist(playlist_link: str, save: int):\n",
    "    playlist_URI = playlist_link.split(\"/\")[-1].split(\"?\")[0]\n",
    "    track_uris = [x[\"track\"][\"uri\"] for x in sp.playlist_tracks(playlist_URI)[\"items\"]]\n",
    "    print(sp.playlist_tracks(playlist_URI)[\"items\"])\n",
    "    \n",
    "    features = sp.audio_features(track_uris[0])[0]\n",
    "    cols = [\"track_name\", \"id\", \"track_pop\", \"artist_name\", \"artist_pop\", \"artist_genre\"]\n",
    "    cols.extend(list(features.keys()))\n",
    "    cols.append(\"save\")\n",
    "    df = pd.DataFrame(columns=cols)\n",
    "    \n",
    "    for curr_uri in track_uris:\n",
    "        row = []\n",
    "        track = sp.track(curr_uri)\n",
    "        row.append(track[\"name\"])\n",
    "        row.append(curr_uri)\n",
    "        track_pop = row.append(track[\"popularity\"])\n",
    "        artist_uri = track[\"artists\"][0][\"uri\"]\n",
    "        artist_info = sp.artist(artist_uri) \n",
    "        #Name, popularity, genre\n",
    "        artist_name = row.append(track[\"artists\"][0][\"name\"])\n",
    "        artist_pop = row.append(artist_info[\"popularity\"])\n",
    "        artist_genres = row.append(artist_info[\"genres\"])\n",
    "        \n",
    "        features = sp.audio_features(curr_uri)[0]\n",
    "        # print(features)\n",
    "        \n",
    "        row.extend(list(features.values()))\n",
    "        row.append(save)\n",
    "        \n",
    "        new_row = pd.DataFrame([row], columns=df.columns)\n",
    "        \n",
    "        # Append the new row to df\n",
    "        df = pd.concat([df, new_row], ignore_index=True)\n",
    "    return df"
   ],
   "metadata": {
    "collapsed": false,
    "ExecuteTime": {
     "end_time": "2024-02-27T23:10:01.972170600Z",
     "start_time": "2024-02-27T23:10:01.791169700Z"
    }
   },
   "id": "83c18c9e20b55f82"
  },
  {
   "cell_type": "code",
   "execution_count": 109,
   "outputs": [
    {
     "data": {
      "text/plain": "       0               Day Stalker  spotify:track:4bRfxOqnnsz24rruXiJqzZ  47  \\\n0      1  Head Over Heels / Broken  spotify:track:0aF9m87P8Tja3NUMv4DfHt  67   \n1      2    Can You Hear The Music  spotify:track:4VnDmjYCZkyeqeb0NIKqdA  77   \n2      3           Heaven Up There  spotify:track:3Rl26h1HiMCV0HFHHVb2IM  58   \n3      4                     Intro  spotify:track:6XDFFeinPXgy3auyC7huoC  49   \n4      5                Closetowhy  spotify:track:6ynpjKUatAPVLmfgzTXvOG  44   \n..   ...                       ...                                   ...  ..   \n209  210                   Breathe  spotify:track:4QvchxEDRzAosUOkZzJGI6  45   \n210  211                     Girls  spotify:track:7EjL6DoRMa601VXjoyyBSE  60   \n211  212                   unravel  spotify:track:1rN9QoVxw5U7TJkyaUR8C1  74   \n212  213                     DADDY  spotify:track:1eMVXXpNPEUdFRy5ZH7FpM  63   \n213  214                   Perfect  spotify:track:0tgVpDi06FyKpA1z0VMD4v  90   \n\n                 Carpenter Brut  54  \\\n0               Tears For Fears  74   \n1              Ludwig Göransson  66   \n2                        Palace  59   \n3                           M83  70   \n4                       Parcels  64   \n..                          ...  ..   \n209                         DOE  49   \n210              Rachel Platten  61   \n211  TK from Ling tosite sigure  56   \n212                         PSY  62   \n213                  Ed Sheeran  87   \n\n                     [cyberpunk, darksynth, synthwave]  0.477  0.7620  11  \\\n0    [new romantic, new wave, new wave pop, permane...  0.298   0.704   7   \n1    [nordic soundtrack, orchestral soundtrack, sou...  0.190   0.435   4   \n2                                 [english indie rock]  0.424   0.420   4   \n3    [french shoegaze, french synthpop, indietronic...  0.408   0.760   6   \n4                          [aussietronica, indie soul]  0.855   0.578   1   \n..                                                 ...    ...     ...  ..   \n209                                                 []  0.558   0.394   9   \n210            [post-teen pop, talent show, viral pop]  0.521   0.186   2   \n211                                [j-poprock, j-rock]  0.508   0.889   7   \n212                 [k-rap, korean old school hip hop]  0.762   0.869   6   \n213               [pop, singer-songwriter pop, uk pop]  0.599   0.448   8   \n\n     ...  0.2460  136.982  audio_features  4bRfxOqnnsz24rruXiJqzZ  \\\n0    ...  0.6550   95.023  audio_features  0aF9m87P8Tja3NUMv4DfHt   \n1    ...  0.0643  138.515  audio_features  4VnDmjYCZkyeqeb0NIKqdA   \n2    ...  0.1760  138.079  audio_features  3Rl26h1HiMCV0HFHHVb2IM   \n3    ...  0.0380  105.008  audio_features  6XDFFeinPXgy3auyC7huoC   \n4    ...  0.4490  109.995  audio_features  6ynpjKUatAPVLmfgzTXvOG   \n..   ...     ...      ...             ...                     ...   \n209  ...  0.0949   56.454  audio_features  4QvchxEDRzAosUOkZzJGI6   \n210  ...  0.5390   74.227  audio_features  7EjL6DoRMa601VXjoyyBSE   \n211  ...  0.3320  135.014  audio_features  1rN9QoVxw5U7TJkyaUR8C1   \n212  ...  0.7470  132.050  audio_features  1eMVXXpNPEUdFRy5ZH7FpM   \n213  ...  0.1680   95.050  audio_features  0tgVpDi06FyKpA1z0VMD4v   \n\n     spotify:track:4bRfxOqnnsz24rruXiJqzZ.1  \\\n0      spotify:track:0aF9m87P8Tja3NUMv4DfHt   \n1      spotify:track:4VnDmjYCZkyeqeb0NIKqdA   \n2      spotify:track:3Rl26h1HiMCV0HFHHVb2IM   \n3      spotify:track:6XDFFeinPXgy3auyC7huoC   \n4      spotify:track:6ynpjKUatAPVLmfgzTXvOG   \n..                                      ...   \n209    spotify:track:4QvchxEDRzAosUOkZzJGI6   \n210    spotify:track:7EjL6DoRMa601VXjoyyBSE   \n211    spotify:track:1rN9QoVxw5U7TJkyaUR8C1   \n212    spotify:track:1eMVXXpNPEUdFRy5ZH7FpM   \n213    spotify:track:0tgVpDi06FyKpA1z0VMD4v   \n\n     https://api.spotify.com/v1/tracks/4bRfxOqnnsz24rruXiJqzZ  \\\n0    https://api.spotify.com/v1/tracks/0aF9m87P8Tja...          \n1    https://api.spotify.com/v1/tracks/4VnDmjYCZkye...          \n2    https://api.spotify.com/v1/tracks/3Rl26h1HiMCV...          \n3    https://api.spotify.com/v1/tracks/6XDFFeinPXgy...          \n4    https://api.spotify.com/v1/tracks/6ynpjKUatAPV...          \n..                                                 ...          \n209  https://api.spotify.com/v1/tracks/4QvchxEDRzAo...          \n210  https://api.spotify.com/v1/tracks/7EjL6DoRMa60...          \n211  https://api.spotify.com/v1/tracks/1rN9QoVxw5U7...          \n212  https://api.spotify.com/v1/tracks/1eMVXXpNPEUd...          \n213  https://api.spotify.com/v1/tracks/0tgVpDi06FyK...          \n\n     https://api.spotify.com/v1/audio-analysis/4bRfxOqnnsz24rruXiJqzZ  224240  \\\n0    https://api.spotify.com/v1/audio-analysis/0aF9...                 302120   \n1    https://api.spotify.com/v1/audio-analysis/4VnD...                 110160   \n2    https://api.spotify.com/v1/audio-analysis/3Rl2...                 437577   \n3    https://api.spotify.com/v1/audio-analysis/6XDF...                 322760   \n4    https://api.spotify.com/v1/audio-analysis/6ynp...                 330866   \n..                                                 ...                    ...   \n209  https://api.spotify.com/v1/audio-analysis/4Qvc...                 172218   \n210  https://api.spotify.com/v1/audio-analysis/7EjL...                 171022   \n211  https://api.spotify.com/v1/audio-analysis/1rN9...                 238360   \n212  https://api.spotify.com/v1/audio-analysis/1eMV...                 230635   \n213  https://api.spotify.com/v1/audio-analysis/0tgV...                 263400   \n\n     4 1.1  \n0    4   1  \n1    4   1  \n2    4   1  \n3    4   1  \n4    4   1  \n..  ..  ..  \n209  4   0  \n210  3   0  \n211  4   0  \n212  4   0  \n213  3   0  \n\n[214 rows x 26 columns]",
      "text/html": "<div>\n<style scoped>\n    .dataframe tbody tr th:only-of-type {\n        vertical-align: middle;\n    }\n\n    .dataframe tbody tr th {\n        vertical-align: top;\n    }\n\n    .dataframe thead th {\n        text-align: right;\n    }\n</style>\n<table border=\"1\" class=\"dataframe\">\n  <thead>\n    <tr style=\"text-align: right;\">\n      <th></th>\n      <th>0</th>\n      <th>Day Stalker</th>\n      <th>spotify:track:4bRfxOqnnsz24rruXiJqzZ</th>\n      <th>47</th>\n      <th>Carpenter Brut</th>\n      <th>54</th>\n      <th>[cyberpunk, darksynth, synthwave]</th>\n      <th>0.477</th>\n      <th>0.7620</th>\n      <th>11</th>\n      <th>...</th>\n      <th>0.2460</th>\n      <th>136.982</th>\n      <th>audio_features</th>\n      <th>4bRfxOqnnsz24rruXiJqzZ</th>\n      <th>spotify:track:4bRfxOqnnsz24rruXiJqzZ.1</th>\n      <th>https://api.spotify.com/v1/tracks/4bRfxOqnnsz24rruXiJqzZ</th>\n      <th>https://api.spotify.com/v1/audio-analysis/4bRfxOqnnsz24rruXiJqzZ</th>\n      <th>224240</th>\n      <th>4</th>\n      <th>1.1</th>\n    </tr>\n  </thead>\n  <tbody>\n    <tr>\n      <th>0</th>\n      <td>1</td>\n      <td>Head Over Heels / Broken</td>\n      <td>spotify:track:0aF9m87P8Tja3NUMv4DfHt</td>\n      <td>67</td>\n      <td>Tears For Fears</td>\n      <td>74</td>\n      <td>[new romantic, new wave, new wave pop, permane...</td>\n      <td>0.298</td>\n      <td>0.704</td>\n      <td>7</td>\n      <td>...</td>\n      <td>0.6550</td>\n      <td>95.023</td>\n      <td>audio_features</td>\n      <td>0aF9m87P8Tja3NUMv4DfHt</td>\n      <td>spotify:track:0aF9m87P8Tja3NUMv4DfHt</td>\n      <td>https://api.spotify.com/v1/tracks/0aF9m87P8Tja...</td>\n      <td>https://api.spotify.com/v1/audio-analysis/0aF9...</td>\n      <td>302120</td>\n      <td>4</td>\n      <td>1</td>\n    </tr>\n    <tr>\n      <th>1</th>\n      <td>2</td>\n      <td>Can You Hear The Music</td>\n      <td>spotify:track:4VnDmjYCZkyeqeb0NIKqdA</td>\n      <td>77</td>\n      <td>Ludwig Göransson</td>\n      <td>66</td>\n      <td>[nordic soundtrack, orchestral soundtrack, sou...</td>\n      <td>0.190</td>\n      <td>0.435</td>\n      <td>4</td>\n      <td>...</td>\n      <td>0.0643</td>\n      <td>138.515</td>\n      <td>audio_features</td>\n      <td>4VnDmjYCZkyeqeb0NIKqdA</td>\n      <td>spotify:track:4VnDmjYCZkyeqeb0NIKqdA</td>\n      <td>https://api.spotify.com/v1/tracks/4VnDmjYCZkye...</td>\n      <td>https://api.spotify.com/v1/audio-analysis/4VnD...</td>\n      <td>110160</td>\n      <td>4</td>\n      <td>1</td>\n    </tr>\n    <tr>\n      <th>2</th>\n      <td>3</td>\n      <td>Heaven Up There</td>\n      <td>spotify:track:3Rl26h1HiMCV0HFHHVb2IM</td>\n      <td>58</td>\n      <td>Palace</td>\n      <td>59</td>\n      <td>[english indie rock]</td>\n      <td>0.424</td>\n      <td>0.420</td>\n      <td>4</td>\n      <td>...</td>\n      <td>0.1760</td>\n      <td>138.079</td>\n      <td>audio_features</td>\n      <td>3Rl26h1HiMCV0HFHHVb2IM</td>\n      <td>spotify:track:3Rl26h1HiMCV0HFHHVb2IM</td>\n      <td>https://api.spotify.com/v1/tracks/3Rl26h1HiMCV...</td>\n      <td>https://api.spotify.com/v1/audio-analysis/3Rl2...</td>\n      <td>437577</td>\n      <td>4</td>\n      <td>1</td>\n    </tr>\n    <tr>\n      <th>3</th>\n      <td>4</td>\n      <td>Intro</td>\n      <td>spotify:track:6XDFFeinPXgy3auyC7huoC</td>\n      <td>49</td>\n      <td>M83</td>\n      <td>70</td>\n      <td>[french shoegaze, french synthpop, indietronic...</td>\n      <td>0.408</td>\n      <td>0.760</td>\n      <td>6</td>\n      <td>...</td>\n      <td>0.0380</td>\n      <td>105.008</td>\n      <td>audio_features</td>\n      <td>6XDFFeinPXgy3auyC7huoC</td>\n      <td>spotify:track:6XDFFeinPXgy3auyC7huoC</td>\n      <td>https://api.spotify.com/v1/tracks/6XDFFeinPXgy...</td>\n      <td>https://api.spotify.com/v1/audio-analysis/6XDF...</td>\n      <td>322760</td>\n      <td>4</td>\n      <td>1</td>\n    </tr>\n    <tr>\n      <th>4</th>\n      <td>5</td>\n      <td>Closetowhy</td>\n      <td>spotify:track:6ynpjKUatAPVLmfgzTXvOG</td>\n      <td>44</td>\n      <td>Parcels</td>\n      <td>64</td>\n      <td>[aussietronica, indie soul]</td>\n      <td>0.855</td>\n      <td>0.578</td>\n      <td>1</td>\n      <td>...</td>\n      <td>0.4490</td>\n      <td>109.995</td>\n      <td>audio_features</td>\n      <td>6ynpjKUatAPVLmfgzTXvOG</td>\n      <td>spotify:track:6ynpjKUatAPVLmfgzTXvOG</td>\n      <td>https://api.spotify.com/v1/tracks/6ynpjKUatAPV...</td>\n      <td>https://api.spotify.com/v1/audio-analysis/6ynp...</td>\n      <td>330866</td>\n      <td>4</td>\n      <td>1</td>\n    </tr>\n    <tr>\n      <th>...</th>\n      <td>...</td>\n      <td>...</td>\n      <td>...</td>\n      <td>...</td>\n      <td>...</td>\n      <td>...</td>\n      <td>...</td>\n      <td>...</td>\n      <td>...</td>\n      <td>...</td>\n      <td>...</td>\n      <td>...</td>\n      <td>...</td>\n      <td>...</td>\n      <td>...</td>\n      <td>...</td>\n      <td>...</td>\n      <td>...</td>\n      <td>...</td>\n      <td>...</td>\n      <td>...</td>\n    </tr>\n    <tr>\n      <th>209</th>\n      <td>210</td>\n      <td>Breathe</td>\n      <td>spotify:track:4QvchxEDRzAosUOkZzJGI6</td>\n      <td>45</td>\n      <td>DOE</td>\n      <td>49</td>\n      <td>[]</td>\n      <td>0.558</td>\n      <td>0.394</td>\n      <td>9</td>\n      <td>...</td>\n      <td>0.0949</td>\n      <td>56.454</td>\n      <td>audio_features</td>\n      <td>4QvchxEDRzAosUOkZzJGI6</td>\n      <td>spotify:track:4QvchxEDRzAosUOkZzJGI6</td>\n      <td>https://api.spotify.com/v1/tracks/4QvchxEDRzAo...</td>\n      <td>https://api.spotify.com/v1/audio-analysis/4Qvc...</td>\n      <td>172218</td>\n      <td>4</td>\n      <td>0</td>\n    </tr>\n    <tr>\n      <th>210</th>\n      <td>211</td>\n      <td>Girls</td>\n      <td>spotify:track:7EjL6DoRMa601VXjoyyBSE</td>\n      <td>60</td>\n      <td>Rachel Platten</td>\n      <td>61</td>\n      <td>[post-teen pop, talent show, viral pop]</td>\n      <td>0.521</td>\n      <td>0.186</td>\n      <td>2</td>\n      <td>...</td>\n      <td>0.5390</td>\n      <td>74.227</td>\n      <td>audio_features</td>\n      <td>7EjL6DoRMa601VXjoyyBSE</td>\n      <td>spotify:track:7EjL6DoRMa601VXjoyyBSE</td>\n      <td>https://api.spotify.com/v1/tracks/7EjL6DoRMa60...</td>\n      <td>https://api.spotify.com/v1/audio-analysis/7EjL...</td>\n      <td>171022</td>\n      <td>3</td>\n      <td>0</td>\n    </tr>\n    <tr>\n      <th>211</th>\n      <td>212</td>\n      <td>unravel</td>\n      <td>spotify:track:1rN9QoVxw5U7TJkyaUR8C1</td>\n      <td>74</td>\n      <td>TK from Ling tosite sigure</td>\n      <td>56</td>\n      <td>[j-poprock, j-rock]</td>\n      <td>0.508</td>\n      <td>0.889</td>\n      <td>7</td>\n      <td>...</td>\n      <td>0.3320</td>\n      <td>135.014</td>\n      <td>audio_features</td>\n      <td>1rN9QoVxw5U7TJkyaUR8C1</td>\n      <td>spotify:track:1rN9QoVxw5U7TJkyaUR8C1</td>\n      <td>https://api.spotify.com/v1/tracks/1rN9QoVxw5U7...</td>\n      <td>https://api.spotify.com/v1/audio-analysis/1rN9...</td>\n      <td>238360</td>\n      <td>4</td>\n      <td>0</td>\n    </tr>\n    <tr>\n      <th>212</th>\n      <td>213</td>\n      <td>DADDY</td>\n      <td>spotify:track:1eMVXXpNPEUdFRy5ZH7FpM</td>\n      <td>63</td>\n      <td>PSY</td>\n      <td>62</td>\n      <td>[k-rap, korean old school hip hop]</td>\n      <td>0.762</td>\n      <td>0.869</td>\n      <td>6</td>\n      <td>...</td>\n      <td>0.7470</td>\n      <td>132.050</td>\n      <td>audio_features</td>\n      <td>1eMVXXpNPEUdFRy5ZH7FpM</td>\n      <td>spotify:track:1eMVXXpNPEUdFRy5ZH7FpM</td>\n      <td>https://api.spotify.com/v1/tracks/1eMVXXpNPEUd...</td>\n      <td>https://api.spotify.com/v1/audio-analysis/1eMV...</td>\n      <td>230635</td>\n      <td>4</td>\n      <td>0</td>\n    </tr>\n    <tr>\n      <th>213</th>\n      <td>214</td>\n      <td>Perfect</td>\n      <td>spotify:track:0tgVpDi06FyKpA1z0VMD4v</td>\n      <td>90</td>\n      <td>Ed Sheeran</td>\n      <td>87</td>\n      <td>[pop, singer-songwriter pop, uk pop]</td>\n      <td>0.599</td>\n      <td>0.448</td>\n      <td>8</td>\n      <td>...</td>\n      <td>0.1680</td>\n      <td>95.050</td>\n      <td>audio_features</td>\n      <td>0tgVpDi06FyKpA1z0VMD4v</td>\n      <td>spotify:track:0tgVpDi06FyKpA1z0VMD4v</td>\n      <td>https://api.spotify.com/v1/tracks/0tgVpDi06FyK...</td>\n      <td>https://api.spotify.com/v1/audio-analysis/0tgV...</td>\n      <td>263400</td>\n      <td>3</td>\n      <td>0</td>\n    </tr>\n  </tbody>\n</table>\n<p>214 rows × 26 columns</p>\n</div>"
     },
     "execution_count": 109,
     "metadata": {},
     "output_type": "execute_result"
    }
   ],
   "source": [
    "# good = create_df_from_playlist(\"https://open.spotify.com/playlist/6vOYm55EbfPnFpAgZynn6I?si=9070e8f011494eb0\", 1)\n",
    "# good2 = create_df_from_playlist(\"https://open.spotify.com/playlist/1bb77h4aEV7sutQ8EIvrL9?si=4ed01da7142d4f72\", 1)\n",
    "# bad = create_df_from_playlist(\"https://open.spotify.com/playlist/5Dflf6jWmbFbpgjsJV4cwI?si=36def02aab974355\", 0)\n",
    "# \n",
    "# df = pd.concat([good, good2, bad], ignore_index=True)\n",
    "df = pd.read_csv(\"spotify_samples.csv\")\n",
    "df"
   ],
   "metadata": {
    "collapsed": false,
    "ExecuteTime": {
     "end_time": "2024-02-27T23:20:32.908590600Z",
     "start_time": "2024-02-27T23:20:32.850953400Z"
    }
   },
   "id": "774e1ededd1541b1"
  },
  {
   "cell_type": "markdown",
   "source": [
    "# Feature Engineering"
   ],
   "metadata": {
    "collapsed": false
   },
   "id": "737e5dccdb56fd33"
  },
  {
   "cell_type": "code",
   "execution_count": 92,
   "outputs": [],
   "source": [
    "feature_cols = [\"track_pop\", \"artist_pop\", \"danceability\", \"energy\", \"key\", \"loudness\", \"mode\", \"speechiness\", \"acousticness\", \"instrumentalness\", \"liveness\", \"tempo\", \"duration_ms\", \"time_signature\"]\n",
    "\n",
    "X = df[feature_cols]\n",
    "y = df[\"save\"]\n",
    "y = y.astype(int)"
   ],
   "metadata": {
    "collapsed": false,
    "ExecuteTime": {
     "end_time": "2024-02-27T23:11:21.886536400Z",
     "start_time": "2024-02-27T23:11:21.851847600Z"
    }
   },
   "id": "c1e75282a6f6b75"
  },
  {
   "cell_type": "markdown",
   "source": [
    "Correlation Heatmap between features"
   ],
   "metadata": {
    "collapsed": false
   },
   "id": "a624c6a5d4573f7b"
  },
  {
   "cell_type": "code",
   "execution_count": 93,
   "outputs": [
    {
     "data": {
      "text/plain": "<Figure size 700x700 with 2 Axes>",
      "image/png": "[encoded data removed]"
     },
     "metadata": {},
     "output_type": "display_data"
    }
   ],
   "source": [
    "import seaborn as sns\n",
    "plt.gcf().set_size_inches(7, 7)\n",
    "cmap = sns.diverging_palette(500, 10, as_cmap=True)\n",
    "sns.heatmap(X.corr(), center=0, annot=False, square=True)\n",
    "plt.show()"
   ],
   "metadata": {
    "collapsed": false,
    "ExecuteTime": {
     "end_time": "2024-02-27T23:11:22.346841800Z",
     "start_time": "2024-02-27T23:11:21.874761500Z"
    }
   },
   "id": "cf570f144cfbed21"
  },
  {
   "cell_type": "code",
   "execution_count": 94,
   "outputs": [
    {
     "name": "stderr",
     "output_type": "stream",
     "text": [
      "C:\\Users\\kiera\\AppData\\Local\\Temp\\ipykernel_33052\\1383783196.py:6: FutureWarning: Downcasting behavior in `replace` is deprecated and will be removed in a future version. To retain the old behavior, explicitly call `result.infer_objects(copy=False)`. To opt-in to the future behavior, set `pd.set_option('future.no_silent_downcasting', True)`\n",
      "  X.replace([np.inf, -np.inf], np.nan, inplace=True)\n",
      "C:\\Users\\kiera\\AppData\\Local\\Temp\\ipykernel_33052\\1383783196.py:6: SettingWithCopyWarning: \n",
      "A value is trying to be set on a copy of a slice from a DataFrame\n",
      "\n",
      "See the caveats in the documentation: https://pandas.pydata.org/pandas-docs/stable/user_guide/indexing.html#returning-a-view-versus-a-copy\n",
      "  X.replace([np.inf, -np.inf], np.nan, inplace=True)\n"
     ]
    }
   ],
   "source": [
    "from sklearn.ensemble import AdaBoostClassifier, RandomForestClassifier\n",
    "from sklearn.tree import DecisionTreeClassifier\n",
    "\n",
    "X_train, X_test, y_train, y_test = train_test_split(X, y, test_size=0.25, random_state=42)\n",
    "\n",
    "X.replace([np.inf, -np.inf], np.nan, inplace=True)\n",
    "\n",
    "# After replacing inf values with NaN, you can choose to either drop or fill those as well\n",
    "missing_or_infinite_values = X.isnull().any().any()\n",
    "\n",
    "clf = DecisionTreeClassifier()\n",
    "clf = clf.fit(X_train, y_train)"
   ],
   "metadata": {
    "collapsed": false,
    "ExecuteTime": {
     "end_time": "2024-02-27T23:11:22.423960700Z",
     "start_time": "2024-02-27T23:11:22.330637200Z"
    }
   },
   "id": "98d4219ab54a6b60"
  },
  {
   "cell_type": "markdown",
   "source": [
    "Accuracy"
   ],
   "metadata": {
    "collapsed": false
   },
   "id": "63a702d632dd5374"
  },
  {
   "cell_type": "code",
   "execution_count": 95,
   "outputs": [
    {
     "data": {
      "text/plain": "0.5740740740740741"
     },
     "execution_count": 95,
     "metadata": {},
     "output_type": "execute_result"
    }
   ],
   "source": [
    "from sklearn.metrics import accuracy_score\n",
    "\n",
    "y_pred = clf.predict(X_test)\n",
    "accuracy_score(y_test, y_pred, normalize=True)"
   ],
   "metadata": {
    "collapsed": false,
    "ExecuteTime": {
     "end_time": "2024-02-27T23:11:22.439629300Z",
     "start_time": "2024-02-27T23:11:22.367800300Z"
    }
   },
   "id": "5886c5aa093b4d16"
  },
  {
   "cell_type": "markdown",
   "source": [
    "Confusion Matrix"
   ],
   "metadata": {
    "collapsed": false
   },
   "id": "214c5118fd00477b"
  },
  {
   "cell_type": "code",
   "execution_count": 96,
   "outputs": [
    {
     "data": {
      "text/plain": "array([[0.31481481, 0.22222222],\n       [0.2037037 , 0.25925926]])"
     },
     "execution_count": 96,
     "metadata": {},
     "output_type": "execute_result"
    }
   ],
   "source": [
    "from sklearn.metrics import confusion_matrix\n",
    "\n",
    "confusion_matrix(y_test, y_pred, normalize='all')"
   ],
   "metadata": {
    "collapsed": false,
    "ExecuteTime": {
     "end_time": "2024-02-27T23:11:22.561214900Z",
     "start_time": "2024-02-27T23:11:22.439629300Z"
    }
   },
   "id": "f493bdef71655020"
  },
  {
   "cell_type": "markdown",
   "source": [
    "### Precision, Recall, F1-Score, and Support where index 0 is for the class 0 and index 1 is for the class 1"
   ],
   "metadata": {
    "collapsed": false
   },
   "id": "291c64026ba0787"
  },
  {
   "cell_type": "code",
   "execution_count": 97,
   "outputs": [
    {
     "data": {
      "text/plain": "(array([0.60714286, 0.53846154]),\n array([0.5862069, 0.56     ]),\n array([0.59649123, 0.54901961]),\n array([29, 25], dtype=int64))"
     },
     "execution_count": 97,
     "metadata": {},
     "output_type": "execute_result"
    }
   ],
   "source": [
    "from sklearn.metrics import precision_recall_fscore_support\n",
    "\n",
    "precision_recall_fscore_support(y_test, y_pred)"
   ],
   "metadata": {
    "collapsed": false,
    "ExecuteTime": {
     "end_time": "2024-02-27T23:11:22.576858100Z",
     "start_time": "2024-02-27T23:11:22.456729Z"
    }
   },
   "id": "4cbdba949e3240a"
  },
  {
   "cell_type": "markdown",
   "source": [
    "Conclusion: Poor precision, high accuracy"
   ],
   "metadata": {
    "collapsed": false
   },
   "id": "2e9fbfe193749c0a"
  },
  {
   "cell_type": "markdown",
   "source": [
    "### Support Vector Machines"
   ],
   "metadata": {
    "collapsed": false
   },
   "id": "53695124165d1ab8"
  },
  {
   "cell_type": "code",
   "execution_count": 98,
   "outputs": [
    {
     "name": "stdout",
     "output_type": "stream",
     "text": [
      "Accuracy:  0.7037037037037037 PRFS:  (array([0.68571429, 0.73684211]), array([0.82758621, 0.56      ]), array([0.75      , 0.63636364]), array([29, 25], dtype=int64))\n"
     ]
    }
   ],
   "source": [
    "from sklearn import svm\n",
    "clf = svm.SVC()\n",
    "clf.fit(X_train, y_train)\n",
    "\n",
    "y_pred = clf.predict(X_test)\n",
    "acc = accuracy_score(y_test, y_pred, normalize=True)\n",
    "prfs = precision_recall_fscore_support(y_test, y_pred)\n",
    "\n",
    "print(\"Accuracy: \", acc, \"PRFS: \", prfs)"
   ],
   "metadata": {
    "collapsed": false,
    "ExecuteTime": {
     "end_time": "2024-02-27T23:11:22.576858100Z",
     "start_time": "2024-02-27T23:11:22.471246800Z"
    }
   },
   "id": "59f8e0c01072b0eb"
  },
  {
   "cell_type": "markdown",
   "source": [
    "### Random Forest"
   ],
   "metadata": {
    "collapsed": false
   },
   "id": "89132e6b57eac5c9"
  },
  {
   "cell_type": "code",
   "execution_count": 99,
   "outputs": [
    {
     "name": "stdout",
     "output_type": "stream",
     "text": [
      "Accuracy:  0.7407407407407407 PRFS:  (array([0.72727273, 0.76190476]), array([0.82758621, 0.64      ]), array([0.77419355, 0.69565217]), array([29, 25], dtype=int64))\n"
     ]
    }
   ],
   "source": [
    "from sklearn.ensemble import RandomForestClassifier\n",
    "clf = RandomForestClassifier(n_estimators=10)\n",
    "clf.fit(X_train, y_train)\n",
    "\n",
    "y_pred = clf.predict(X_test)\n",
    "acc = accuracy_score(y_test, y_pred, normalize=True)\n",
    "prfs = precision_recall_fscore_support(y_test, y_pred)\n",
    "\n",
    "print(\"Accuracy: \", acc, \"PRFS: \", prfs)"
   ],
   "metadata": {
    "collapsed": false,
    "ExecuteTime": {
     "end_time": "2024-02-27T23:11:22.576858100Z",
     "start_time": "2024-02-27T23:11:22.502952100Z"
    }
   },
   "id": "4a4ac7a7c1f65165"
  },
  {
   "cell_type": "markdown",
   "source": [
    "### Naive Bayes"
   ],
   "metadata": {
    "collapsed": false
   },
   "id": "2e7e17df5868ff30"
  },
  {
   "cell_type": "code",
   "execution_count": 101,
   "outputs": [
    {
     "name": "stdout",
     "output_type": "stream",
     "text": [
      "Accuracy:  0.6851851851851852 PRFS:  (array([0.67647059, 0.7       ]), array([0.79310345, 0.56      ]), array([0.73015873, 0.62222222]), array([29, 25], dtype=int64))\n"
     ]
    }
   ],
   "source": [
    "from sklearn.naive_bayes import BernoulliNB, GaussianNB, MultinomialNB\n",
    "clf = GaussianNB()\n",
    "clf.fit(X_train, y_train)\n",
    "\n",
    "y_pred = clf.predict(X_test)\n",
    "acc = accuracy_score(y_test, y_pred, normalize=True)\n",
    "prfs = precision_recall_fscore_support(y_test, y_pred)\n",
    "\n",
    "print(\"Accuracy: \", acc, \"PRFS: \", prfs)"
   ],
   "metadata": {
    "collapsed": false,
    "ExecuteTime": {
     "end_time": "2024-02-27T23:11:32.348868800Z",
     "start_time": "2024-02-27T23:11:32.223210Z"
    }
   },
   "id": "e985e2e5a3303777"
  },
  {
   "cell_type": "markdown",
   "source": [
    "### KNN"
   ],
   "metadata": {
    "collapsed": false
   },
   "id": "f148e65b42d12e8d"
  },
  {
   "cell_type": "code",
   "execution_count": 107,
   "outputs": [
    {
     "name": "stdout",
     "output_type": "stream",
     "text": [
      "Accuracy:  0.6851851851851852 PRFS:  (array([0.71428571, 0.65384615]), array([0.68965517, 0.68      ]), array([0.70175439, 0.66666667]), array([29, 25], dtype=int64))\n"
     ]
    }
   ],
   "source": [
    "from sklearn.neighbors import KNeighborsClassifier\n",
    "clf = KNeighborsClassifier(n_neighbors=3)\n",
    "clf.fit(X_train, y_train)\n",
    "\n",
    "y_pred = clf.predict(X_test)\n",
    "acc = accuracy_score(y_test, y_pred, normalize=True)\n",
    "prfs = precision_recall_fscore_support(y_test, y_pred)\n",
    "\n",
    "print(\"Accuracy: \", acc, \"PRFS: \", prfs)"
   ],
   "metadata": {
    "collapsed": false,
    "ExecuteTime": {
     "end_time": "2024-02-27T23:17:28.838682200Z",
     "start_time": "2024-02-27T23:17:28.763734Z"
    }
   },
   "id": "8aeb6a7e5632b138"
  }
 ],
 "metadata": {
  "kernelspec": {
   "display_name": "Python 3",
   "language": "python",
   "name": "python3"
  },
  "language_info": {
   "codemirror_mode": {
    "name": "ipython",
    "version": 2
   },
   "file_extension": ".py",
   "mimetype": "text/x-python",
   "name": "python",
   "nbconvert_exporter": "python",
   "pygments_lexer": "ipython2",
   "version": "2.7.6"
  }
 },
 "nbformat": 4,
 "nbformat_minor": 5
}
