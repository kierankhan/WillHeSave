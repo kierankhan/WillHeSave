{
 "cells": [
  {
   "cell_type": "code",
   "execution_count": 2,
   "id": "initial_id",
   "metadata": {
    "collapsed": true,
    "ExecuteTime": {
     "end_time": "2024-02-28T18:54:17.954848500Z",
     "start_time": "2024-02-28T18:54:17.077251500Z"
    }
   },
   "outputs": [],
   "source": [
    "import pandas as pd\n",
    "import spotipy\n",
    "from spotipy.oauth2 import SpotifyClientCredentials\n",
    "import matplotlib.pyplot as plt\n",
    "import numpy as np\n",
    "from sklearn.model_selection import train_test_split\n",
    "import os"
   ]
  },
  {
   "cell_type": "code",
   "execution_count": 3,
   "outputs": [],
   "source": [
    "from util import keys\n",
    "cid = keys['CLIENT_ID']\n",
    "secret = keys['CLIENT_SECRET']\n",
    "client_credentials_manager = SpotifyClientCredentials(client_id=cid, client_secret=secret)\n",
    "sp = spotipy.Spotify(client_credentials_manager=client_credentials_manager)"
   ],
   "metadata": {
    "collapsed": false,
    "ExecuteTime": {
     "end_time": "2024-02-28T18:54:17.969999500Z",
     "start_time": "2024-02-28T18:54:17.955850400Z"
    }
   },
   "id": "ec7a7db68f6deb49"
  },
  {
   "cell_type": "code",
   "execution_count": 4,
   "outputs": [],
   "source": [
    "def create_df_from_playlist(playlist_link: str, save: int):\n",
    "    playlist_URI = playlist_link.split(\"/\")[-1].split(\"?\")[0]\n",
    "    track_uris = [x[\"track\"][\"uri\"] for x in sp.playlist_tracks(playlist_URI)[\"items\"]]\n",
    "    # print(sp.playlist_tracks(playlist_URI)[\"items\"])\n",
    "    \n",
    "    features = sp.audio_features(track_uris[0])[0]\n",
    "    cols = [\"track_name\", \"id\", \"track_pop\", \"artist_name\", \"artist_pop\", \"artist_genre\"]\n",
    "    cols.extend(features.keys())\n",
    "    cols.append(\"save\")\n",
    "    df = pd.DataFrame(columns=cols)\n",
    "    \n",
    "    for curr_uri in track_uris:\n",
    "        row = []\n",
    "        track = sp.track(curr_uri)\n",
    "        row.append(track[\"name\"])\n",
    "        row.append(curr_uri)\n",
    "        track_pop = row.append(track[\"popularity\"])\n",
    "        artist_uri = track[\"artists\"][0][\"uri\"]\n",
    "        artist_info = sp.artist(artist_uri) \n",
    "        #Name, popularity, genre\n",
    "        artist_name = row.append(track[\"artists\"][0][\"name\"])\n",
    "        artist_pop = row.append(artist_info[\"popularity\"])\n",
    "        artist_genres = row.append(artist_info[\"genres\"])\n",
    "        \n",
    "        features = sp.audio_features(curr_uri)[0]\n",
    "        # print(features)\n",
    "        \n",
    "        row.extend(features.values())\n",
    "        row.append(save)\n",
    "        \n",
    "        new_row = pd.DataFrame([row], columns=df.columns)\n",
    "        \n",
    "        # Append the new row to df\n",
    "        df = pd.concat([df, new_row], ignore_index=True)\n",
    "    return df"
   ],
   "metadata": {
    "collapsed": false,
    "ExecuteTime": {
     "end_time": "2024-02-28T18:54:18.011534500Z",
     "start_time": "2024-02-28T18:54:17.974090800Z"
    }
   },
   "id": "83c18c9e20b55f82"
  },
  {
   "cell_type": "code",
   "execution_count": 5,
   "outputs": [],
   "source": [
    "def create_arr_from_song(song_link: str):\n",
    "    song_URI = song_link.split(\"/\")[-1].split(\"?\")[0]\n",
    "    row = []\n",
    "    track = sp.track(song_URI)\n",
    "    track_pop = row.append(track[\"popularity\"])\n",
    "    artist_uri = track[\"artists\"][0][\"uri\"]\n",
    "    artist_info = sp.artist(artist_uri) \n",
    "    #Name, popularity, genre\n",
    "    artist_pop = row.append(artist_info[\"popularity\"])\n",
    "\n",
    "    features = sp.audio_features(song_URI)[0]\n",
    "    # print(features)\n",
    "\n",
    "    row.extend(features.values())\n",
    "    # arr = np.array(row)\n",
    "    return row\n",
    "\n",
    "# create_arr_from_song(\"https://open.spotify.com/track/6TW4bM3L1tyiUlCnQUkS1U?si=28567c1380254b15\")"
   ],
   "metadata": {
    "collapsed": false,
    "ExecuteTime": {
     "end_time": "2024-02-28T18:54:18.025685600Z",
     "start_time": "2024-02-28T18:54:17.986250600Z"
    }
   },
   "id": "ddc1657b66225d7"
  },
  {
   "cell_type": "code",
   "execution_count": 6,
   "outputs": [
    {
     "data": {
      "text/plain": "     Unnamed: 0                track_name  \\\n0             0               Day Stalker   \n1             1  Head Over Heels / Broken   \n2             2    Can You Hear The Music   \n3             3           Heaven Up There   \n4             4                     Intro   \n..          ...                       ...   \n210         210                   Breathe   \n211         211                     Girls   \n212         212                   unravel   \n213         213                     DADDY   \n214         214                   Perfect   \n\n                                       id  track_pop  \\\n0    spotify:track:4bRfxOqnnsz24rruXiJqzZ         47   \n1    spotify:track:0aF9m87P8Tja3NUMv4DfHt         67   \n2    spotify:track:4VnDmjYCZkyeqeb0NIKqdA         77   \n3    spotify:track:3Rl26h1HiMCV0HFHHVb2IM         58   \n4    spotify:track:6XDFFeinPXgy3auyC7huoC         49   \n..                                    ...        ...   \n210  spotify:track:4QvchxEDRzAosUOkZzJGI6         45   \n211  spotify:track:7EjL6DoRMa601VXjoyyBSE         60   \n212  spotify:track:1rN9QoVxw5U7TJkyaUR8C1         74   \n213  spotify:track:1eMVXXpNPEUdFRy5ZH7FpM         63   \n214  spotify:track:0tgVpDi06FyKpA1z0VMD4v         90   \n\n                    artist_name  artist_pop  \\\n0                Carpenter Brut          54   \n1               Tears For Fears          74   \n2              Ludwig Göransson          66   \n3                        Palace          59   \n4                           M83          70   \n..                          ...         ...   \n210                         DOE          49   \n211              Rachel Platten          61   \n212  TK from Ling tosite sigure          56   \n213                         PSY          62   \n214                  Ed Sheeran          87   \n\n                                          artist_genre  danceability  energy  \\\n0                    [cyberpunk, darksynth, synthwave]         0.477   0.762   \n1    [new romantic, new wave, new wave pop, permane...         0.298   0.704   \n2    [nordic soundtrack, orchestral soundtrack, sou...         0.190   0.435   \n3                                 [english indie rock]         0.424   0.420   \n4    [french shoegaze, french synthpop, indietronic...         0.408   0.760   \n..                                                 ...           ...     ...   \n210                                                 []         0.558   0.394   \n211            [post-teen pop, talent show, viral pop]         0.521   0.186   \n212                                [j-poprock, j-rock]         0.508   0.889   \n213                 [k-rap, korean old school hip hop]         0.762   0.869   \n214               [pop, singer-songwriter pop, uk pop]         0.599   0.448   \n\n     key  ...  valence    tempo            type                    id.1  \\\n0     11  ...   0.2460  136.982  audio_features  4bRfxOqnnsz24rruXiJqzZ   \n1      7  ...   0.6550   95.023  audio_features  0aF9m87P8Tja3NUMv4DfHt   \n2      4  ...   0.0643  138.515  audio_features  4VnDmjYCZkyeqeb0NIKqdA   \n3      4  ...   0.1760  138.079  audio_features  3Rl26h1HiMCV0HFHHVb2IM   \n4      6  ...   0.0380  105.008  audio_features  6XDFFeinPXgy3auyC7huoC   \n..   ...  ...      ...      ...             ...                     ...   \n210    9  ...   0.0949   56.454  audio_features  4QvchxEDRzAosUOkZzJGI6   \n211    2  ...   0.5390   74.227  audio_features  7EjL6DoRMa601VXjoyyBSE   \n212    7  ...   0.3320  135.014  audio_features  1rN9QoVxw5U7TJkyaUR8C1   \n213    6  ...   0.7470  132.050  audio_features  1eMVXXpNPEUdFRy5ZH7FpM   \n214    8  ...   0.1680   95.050  audio_features  0tgVpDi06FyKpA1z0VMD4v   \n\n                                      uri  \\\n0    spotify:track:4bRfxOqnnsz24rruXiJqzZ   \n1    spotify:track:0aF9m87P8Tja3NUMv4DfHt   \n2    spotify:track:4VnDmjYCZkyeqeb0NIKqdA   \n3    spotify:track:3Rl26h1HiMCV0HFHHVb2IM   \n4    spotify:track:6XDFFeinPXgy3auyC7huoC   \n..                                    ...   \n210  spotify:track:4QvchxEDRzAosUOkZzJGI6   \n211  spotify:track:7EjL6DoRMa601VXjoyyBSE   \n212  spotify:track:1rN9QoVxw5U7TJkyaUR8C1   \n213  spotify:track:1eMVXXpNPEUdFRy5ZH7FpM   \n214  spotify:track:0tgVpDi06FyKpA1z0VMD4v   \n\n                                            track_href  \\\n0    https://api.spotify.com/v1/tracks/4bRfxOqnnsz2...   \n1    https://api.spotify.com/v1/tracks/0aF9m87P8Tja...   \n2    https://api.spotify.com/v1/tracks/4VnDmjYCZkye...   \n3    https://api.spotify.com/v1/tracks/3Rl26h1HiMCV...   \n4    https://api.spotify.com/v1/tracks/6XDFFeinPXgy...   \n..                                                 ...   \n210  https://api.spotify.com/v1/tracks/4QvchxEDRzAo...   \n211  https://api.spotify.com/v1/tracks/7EjL6DoRMa60...   \n212  https://api.spotify.com/v1/tracks/1rN9QoVxw5U7...   \n213  https://api.spotify.com/v1/tracks/1eMVXXpNPEUd...   \n214  https://api.spotify.com/v1/tracks/0tgVpDi06FyK...   \n\n                                          analysis_url  duration_ms  \\\n0    https://api.spotify.com/v1/audio-analysis/4bRf...       224240   \n1    https://api.spotify.com/v1/audio-analysis/0aF9...       302120   \n2    https://api.spotify.com/v1/audio-analysis/4VnD...       110160   \n3    https://api.spotify.com/v1/audio-analysis/3Rl2...       437577   \n4    https://api.spotify.com/v1/audio-analysis/6XDF...       322760   \n..                                                 ...          ...   \n210  https://api.spotify.com/v1/audio-analysis/4Qvc...       172218   \n211  https://api.spotify.com/v1/audio-analysis/7EjL...       171022   \n212  https://api.spotify.com/v1/audio-analysis/1rN9...       238360   \n213  https://api.spotify.com/v1/audio-analysis/1eMV...       230635   \n214  https://api.spotify.com/v1/audio-analysis/0tgV...       263400   \n\n    time_signature save  \n0                4    1  \n1                4    1  \n2                4    1  \n3                4    1  \n4                4    1  \n..             ...  ...  \n210              4    0  \n211              3    0  \n212              4    0  \n213              4    0  \n214              3    0  \n\n[215 rows x 26 columns]",
      "text/html": "<div>\n<style scoped>\n    .dataframe tbody tr th:only-of-type {\n        vertical-align: middle;\n    }\n\n    .dataframe tbody tr th {\n        vertical-align: top;\n    }\n\n    .dataframe thead th {\n        text-align: right;\n    }\n</style>\n<table border=\"1\" class=\"dataframe\">\n  <thead>\n    <tr style=\"text-align: right;\">\n      <th></th>\n      <th>Unnamed: 0</th>\n      <th>track_name</th>\n      <th>id</th>\n      <th>track_pop</th>\n      <th>artist_name</th>\n      <th>artist_pop</th>\n      <th>artist_genre</th>\n      <th>danceability</th>\n      <th>energy</th>\n      <th>key</th>\n      <th>...</th>\n      <th>valence</th>\n      <th>tempo</th>\n      <th>type</th>\n      <th>id.1</th>\n      <th>uri</th>\n      <th>track_href</th>\n      <th>analysis_url</th>\n      <th>duration_ms</th>\n      <th>time_signature</th>\n      <th>save</th>\n    </tr>\n  </thead>\n  <tbody>\n    <tr>\n      <th>0</th>\n      <td>0</td>\n      <td>Day Stalker</td>\n      <td>spotify:track:4bRfxOqnnsz24rruXiJqzZ</td>\n      <td>47</td>\n      <td>Carpenter Brut</td>\n      <td>54</td>\n      <td>[cyberpunk, darksynth, synthwave]</td>\n      <td>0.477</td>\n      <td>0.762</td>\n      <td>11</td>\n      <td>...</td>\n      <td>0.2460</td>\n      <td>136.982</td>\n      <td>audio_features</td>\n      <td>4bRfxOqnnsz24rruXiJqzZ</td>\n      <td>spotify:track:4bRfxOqnnsz24rruXiJqzZ</td>\n      <td>https://api.spotify.com/v1/tracks/4bRfxOqnnsz2...</td>\n      <td>https://api.spotify.com/v1/audio-analysis/4bRf...</td>\n      <td>224240</td>\n      <td>4</td>\n      <td>1</td>\n    </tr>\n    <tr>\n      <th>1</th>\n      <td>1</td>\n      <td>Head Over Heels / Broken</td>\n      <td>spotify:track:0aF9m87P8Tja3NUMv4DfHt</td>\n      <td>67</td>\n      <td>Tears For Fears</td>\n      <td>74</td>\n      <td>[new romantic, new wave, new wave pop, permane...</td>\n      <td>0.298</td>\n      <td>0.704</td>\n      <td>7</td>\n      <td>...</td>\n      <td>0.6550</td>\n      <td>95.023</td>\n      <td>audio_features</td>\n      <td>0aF9m87P8Tja3NUMv4DfHt</td>\n      <td>spotify:track:0aF9m87P8Tja3NUMv4DfHt</td>\n      <td>https://api.spotify.com/v1/tracks/0aF9m87P8Tja...</td>\n      <td>https://api.spotify.com/v1/audio-analysis/0aF9...</td>\n      <td>302120</td>\n      <td>4</td>\n      <td>1</td>\n    </tr>\n    <tr>\n      <th>2</th>\n      <td>2</td>\n      <td>Can You Hear The Music</td>\n      <td>spotify:track:4VnDmjYCZkyeqeb0NIKqdA</td>\n      <td>77</td>\n      <td>Ludwig Göransson</td>\n      <td>66</td>\n      <td>[nordic soundtrack, orchestral soundtrack, sou...</td>\n      <td>0.190</td>\n      <td>0.435</td>\n      <td>4</td>\n      <td>...</td>\n      <td>0.0643</td>\n      <td>138.515</td>\n      <td>audio_features</td>\n      <td>4VnDmjYCZkyeqeb0NIKqdA</td>\n      <td>spotify:track:4VnDmjYCZkyeqeb0NIKqdA</td>\n      <td>https://api.spotify.com/v1/tracks/4VnDmjYCZkye...</td>\n      <td>https://api.spotify.com/v1/audio-analysis/4VnD...</td>\n      <td>110160</td>\n      <td>4</td>\n      <td>1</td>\n    </tr>\n    <tr>\n      <th>3</th>\n      <td>3</td>\n      <td>Heaven Up There</td>\n      <td>spotify:track:3Rl26h1HiMCV0HFHHVb2IM</td>\n      <td>58</td>\n      <td>Palace</td>\n      <td>59</td>\n      <td>[english indie rock]</td>\n      <td>0.424</td>\n      <td>0.420</td>\n      <td>4</td>\n      <td>...</td>\n      <td>0.1760</td>\n      <td>138.079</td>\n      <td>audio_features</td>\n      <td>3Rl26h1HiMCV0HFHHVb2IM</td>\n      <td>spotify:track:3Rl26h1HiMCV0HFHHVb2IM</td>\n      <td>https://api.spotify.com/v1/tracks/3Rl26h1HiMCV...</td>\n      <td>https://api.spotify.com/v1/audio-analysis/3Rl2...</td>\n      <td>437577</td>\n      <td>4</td>\n      <td>1</td>\n    </tr>\n    <tr>\n      <th>4</th>\n      <td>4</td>\n      <td>Intro</td>\n      <td>spotify:track:6XDFFeinPXgy3auyC7huoC</td>\n      <td>49</td>\n      <td>M83</td>\n      <td>70</td>\n      <td>[french shoegaze, french synthpop, indietronic...</td>\n      <td>0.408</td>\n      <td>0.760</td>\n      <td>6</td>\n      <td>...</td>\n      <td>0.0380</td>\n      <td>105.008</td>\n      <td>audio_features</td>\n      <td>6XDFFeinPXgy3auyC7huoC</td>\n      <td>spotify:track:6XDFFeinPXgy3auyC7huoC</td>\n      <td>https://api.spotify.com/v1/tracks/6XDFFeinPXgy...</td>\n      <td>https://api.spotify.com/v1/audio-analysis/6XDF...</td>\n      <td>322760</td>\n      <td>4</td>\n      <td>1</td>\n    </tr>\n    <tr>\n      <th>...</th>\n      <td>...</td>\n      <td>...</td>\n      <td>...</td>\n      <td>...</td>\n      <td>...</td>\n      <td>...</td>\n      <td>...</td>\n      <td>...</td>\n      <td>...</td>\n      <td>...</td>\n      <td>...</td>\n      <td>...</td>\n      <td>...</td>\n      <td>...</td>\n      <td>...</td>\n      <td>...</td>\n      <td>...</td>\n      <td>...</td>\n      <td>...</td>\n      <td>...</td>\n      <td>...</td>\n    </tr>\n    <tr>\n      <th>210</th>\n      <td>210</td>\n      <td>Breathe</td>\n      <td>spotify:track:4QvchxEDRzAosUOkZzJGI6</td>\n      <td>45</td>\n      <td>DOE</td>\n      <td>49</td>\n      <td>[]</td>\n      <td>0.558</td>\n      <td>0.394</td>\n      <td>9</td>\n      <td>...</td>\n      <td>0.0949</td>\n      <td>56.454</td>\n      <td>audio_features</td>\n      <td>4QvchxEDRzAosUOkZzJGI6</td>\n      <td>spotify:track:4QvchxEDRzAosUOkZzJGI6</td>\n      <td>https://api.spotify.com/v1/tracks/4QvchxEDRzAo...</td>\n      <td>https://api.spotify.com/v1/audio-analysis/4Qvc...</td>\n      <td>172218</td>\n      <td>4</td>\n      <td>0</td>\n    </tr>\n    <tr>\n      <th>211</th>\n      <td>211</td>\n      <td>Girls</td>\n      <td>spotify:track:7EjL6DoRMa601VXjoyyBSE</td>\n      <td>60</td>\n      <td>Rachel Platten</td>\n      <td>61</td>\n      <td>[post-teen pop, talent show, viral pop]</td>\n      <td>0.521</td>\n      <td>0.186</td>\n      <td>2</td>\n      <td>...</td>\n      <td>0.5390</td>\n      <td>74.227</td>\n      <td>audio_features</td>\n      <td>7EjL6DoRMa601VXjoyyBSE</td>\n      <td>spotify:track:7EjL6DoRMa601VXjoyyBSE</td>\n      <td>https://api.spotify.com/v1/tracks/7EjL6DoRMa60...</td>\n      <td>https://api.spotify.com/v1/audio-analysis/7EjL...</td>\n      <td>171022</td>\n      <td>3</td>\n      <td>0</td>\n    </tr>\n    <tr>\n      <th>212</th>\n      <td>212</td>\n      <td>unravel</td>\n      <td>spotify:track:1rN9QoVxw5U7TJkyaUR8C1</td>\n      <td>74</td>\n      <td>TK from Ling tosite sigure</td>\n      <td>56</td>\n      <td>[j-poprock, j-rock]</td>\n      <td>0.508</td>\n      <td>0.889</td>\n      <td>7</td>\n      <td>...</td>\n      <td>0.3320</td>\n      <td>135.014</td>\n      <td>audio_features</td>\n      <td>1rN9QoVxw5U7TJkyaUR8C1</td>\n      <td>spotify:track:1rN9QoVxw5U7TJkyaUR8C1</td>\n      <td>https://api.spotify.com/v1/tracks/1rN9QoVxw5U7...</td>\n      <td>https://api.spotify.com/v1/audio-analysis/1rN9...</td>\n      <td>238360</td>\n      <td>4</td>\n      <td>0</td>\n    </tr>\n    <tr>\n      <th>213</th>\n      <td>213</td>\n      <td>DADDY</td>\n      <td>spotify:track:1eMVXXpNPEUdFRy5ZH7FpM</td>\n      <td>63</td>\n      <td>PSY</td>\n      <td>62</td>\n      <td>[k-rap, korean old school hip hop]</td>\n      <td>0.762</td>\n      <td>0.869</td>\n      <td>6</td>\n      <td>...</td>\n      <td>0.7470</td>\n      <td>132.050</td>\n      <td>audio_features</td>\n      <td>1eMVXXpNPEUdFRy5ZH7FpM</td>\n      <td>spotify:track:1eMVXXpNPEUdFRy5ZH7FpM</td>\n      <td>https://api.spotify.com/v1/tracks/1eMVXXpNPEUd...</td>\n      <td>https://api.spotify.com/v1/audio-analysis/1eMV...</td>\n      <td>230635</td>\n      <td>4</td>\n      <td>0</td>\n    </tr>\n    <tr>\n      <th>214</th>\n      <td>214</td>\n      <td>Perfect</td>\n      <td>spotify:track:0tgVpDi06FyKpA1z0VMD4v</td>\n      <td>90</td>\n      <td>Ed Sheeran</td>\n      <td>87</td>\n      <td>[pop, singer-songwriter pop, uk pop]</td>\n      <td>0.599</td>\n      <td>0.448</td>\n      <td>8</td>\n      <td>...</td>\n      <td>0.1680</td>\n      <td>95.050</td>\n      <td>audio_features</td>\n      <td>0tgVpDi06FyKpA1z0VMD4v</td>\n      <td>spotify:track:0tgVpDi06FyKpA1z0VMD4v</td>\n      <td>https://api.spotify.com/v1/tracks/0tgVpDi06FyK...</td>\n      <td>https://api.spotify.com/v1/audio-analysis/0tgV...</td>\n      <td>263400</td>\n      <td>3</td>\n      <td>0</td>\n    </tr>\n  </tbody>\n</table>\n<p>215 rows × 26 columns</p>\n</div>"
     },
     "execution_count": 6,
     "metadata": {},
     "output_type": "execute_result"
    }
   ],
   "source": [
    "# good = create_df_from_playlist(\"https://open.spotify.com/playlist/6vOYm55EbfPnFpAgZynn6I?si=9070e8f011494eb0\", 1)\n",
    "# good2 = create_df_from_playlist(\"https://open.spotify.com/playlist/1bb77h4aEV7sutQ8EIvrL9?si=4ed01da7142d4f72\", 1)\n",
    "# bad = create_df_from_playlist(\"https://open.spotify.com/playlist/5Dflf6jWmbFbpgjsJV4cwI?si=36def02aab974355\", 0)\n",
    "# \n",
    "# df = pd.concat([good, good2, bad], ignore_index=True)\n",
    "df = pd.read_csv(\"eric_samples.csv\")\n",
    "df"
   ],
   "metadata": {
    "collapsed": false,
    "ExecuteTime": {
     "end_time": "2024-02-28T18:54:18.071767200Z",
     "start_time": "2024-02-28T18:54:18.001409300Z"
    }
   },
   "id": "774e1ededd1541b1"
  },
  {
   "cell_type": "markdown",
   "source": [
    "# Feature Engineering"
   ],
   "metadata": {
    "collapsed": false
   },
   "id": "737e5dccdb56fd33"
  },
  {
   "cell_type": "code",
   "execution_count": 7,
   "outputs": [],
   "source": [
    "feature_cols = [\"track_pop\", \"artist_pop\", \"danceability\", \"energy\", \"key\", \"loudness\", \"mode\", \"speechiness\", \"acousticness\", \"instrumentalness\", \"liveness\", \"valence\", \"tempo\", \"duration_ms\", \"time_signature\"]\n",
    "\n",
    "X = df[feature_cols]\n",
    "y = df[\"save\"]\n",
    "y = y.astype(int)"
   ],
   "metadata": {
    "collapsed": false,
    "ExecuteTime": {
     "end_time": "2024-02-28T18:54:18.082857100Z",
     "start_time": "2024-02-28T18:54:18.061666700Z"
    }
   },
   "id": "c1e75282a6f6b75"
  },
  {
   "cell_type": "markdown",
   "source": [
    "Correlation Heatmap between features"
   ],
   "metadata": {
    "collapsed": false
   },
   "id": "a624c6a5d4573f7b"
  },
  {
   "cell_type": "code",
   "execution_count": 8,
   "outputs": [
    {
     "data": {
      "text/plain": "<Figure size 700x700 with 2 Axes>",
      "image/png": "[encoded data removed]"
     },
     "metadata": {},
     "output_type": "display_data"
    }
   ],
   "source": [
    "import seaborn as sns\n",
    "plt.gcf().set_size_inches(7, 7)\n",
    "cmap = sns.diverging_palette(500, 10, as_cmap=True)\n",
    "sns.heatmap(X.corr(), center=0, annot=False, square=True)\n",
    "plt.show()"
   ],
   "metadata": {
    "collapsed": false,
    "ExecuteTime": {
     "end_time": "2024-02-28T18:54:18.483130500Z",
     "start_time": "2024-02-28T18:54:18.077762900Z"
    }
   },
   "id": "cf570f144cfbed21"
  },
  {
   "cell_type": "code",
   "execution_count": 9,
   "outputs": [
    {
     "name": "stderr",
     "output_type": "stream",
     "text": [
      "C:\\Users\\kiera\\AppData\\Local\\Temp\\ipykernel_8616\\1383783196.py:6: SettingWithCopyWarning: \n",
      "A value is trying to be set on a copy of a slice from a DataFrame\n",
      "\n",
      "See the caveats in the documentation: https://pandas.pydata.org/pandas-docs/stable/user_guide/indexing.html#returning-a-view-versus-a-copy\n",
      "  X.replace([np.inf, -np.inf], np.nan, inplace=True)\n"
     ]
    }
   ],
   "source": [
    "from sklearn.ensemble import AdaBoostClassifier, RandomForestClassifier\n",
    "from sklearn.tree import DecisionTreeClassifier\n",
    "\n",
    "X_train, X_test, y_train, y_test = train_test_split(X, y, test_size=0.25, random_state=42)\n",
    "\n",
    "X.replace([np.inf, -np.inf], np.nan, inplace=True)\n",
    "\n",
    "# After replacing inf values with NaN, you can choose to either drop or fill those as well\n",
    "missing_or_infinite_values = X.isnull().any().any()\n",
    "\n",
    "clf = DecisionTreeClassifier()\n",
    "clf = clf.fit(X_train, y_train)"
   ],
   "metadata": {
    "collapsed": false,
    "ExecuteTime": {
     "end_time": "2024-02-28T18:54:19.350092100Z",
     "start_time": "2024-02-28T18:54:18.479009100Z"
    }
   },
   "id": "98d4219ab54a6b60"
  },
  {
   "cell_type": "markdown",
   "source": [
    "Accuracy"
   ],
   "metadata": {
    "collapsed": false
   },
   "id": "63a702d632dd5374"
  },
  {
   "cell_type": "code",
   "execution_count": 10,
   "outputs": [
    {
     "data": {
      "text/plain": "0.6296296296296297"
     },
     "execution_count": 10,
     "metadata": {},
     "output_type": "execute_result"
    }
   ],
   "source": [
    "from sklearn.metrics import accuracy_score\n",
    "\n",
    "y_pred = clf.predict(X_test)\n",
    "accuracy_score(y_test, y_pred, normalize=True)"
   ],
   "metadata": {
    "collapsed": false,
    "ExecuteTime": {
     "end_time": "2024-02-28T18:54:19.359182200Z",
     "start_time": "2024-02-28T18:54:19.344097Z"
    }
   },
   "id": "5886c5aa093b4d16"
  },
  {
   "cell_type": "markdown",
   "source": [
    "Confusion Matrix"
   ],
   "metadata": {
    "collapsed": false
   },
   "id": "214c5118fd00477b"
  },
  {
   "cell_type": "code",
   "execution_count": 11,
   "outputs": [
    {
     "data": {
      "text/plain": "array([[0.35185185, 0.18518519],\n       [0.18518519, 0.27777778]])"
     },
     "execution_count": 11,
     "metadata": {},
     "output_type": "execute_result"
    }
   ],
   "source": [
    "from sklearn.metrics import confusion_matrix\n",
    "\n",
    "confusion_matrix(y_test, y_pred, normalize='all')"
   ],
   "metadata": {
    "collapsed": false,
    "ExecuteTime": {
     "end_time": "2024-02-28T18:54:19.417533200Z",
     "start_time": "2024-02-28T18:54:19.359182200Z"
    }
   },
   "id": "f493bdef71655020"
  },
  {
   "cell_type": "markdown",
   "source": [
    "### Precision, Recall, F1-Score, and Support where index 0 is for the class 0 and index 1 is for the class 1"
   ],
   "metadata": {
    "collapsed": false
   },
   "id": "291c64026ba0787"
  },
  {
   "cell_type": "code",
   "execution_count": 12,
   "outputs": [
    {
     "data": {
      "text/plain": "(array([0.65517241, 0.6       ]),\n array([0.65517241, 0.6       ]),\n array([0.65517241, 0.6       ]),\n array([29, 25], dtype=int64))"
     },
     "execution_count": 12,
     "metadata": {},
     "output_type": "execute_result"
    }
   ],
   "source": [
    "from sklearn.metrics import precision_recall_fscore_support\n",
    "\n",
    "precision_recall_fscore_support(y_test, y_pred)"
   ],
   "metadata": {
    "collapsed": false,
    "ExecuteTime": {
     "end_time": "2024-02-28T18:54:19.433775700Z",
     "start_time": "2024-02-28T18:54:19.374476400Z"
    }
   },
   "id": "4cbdba949e3240a"
  },
  {
   "cell_type": "markdown",
   "source": [
    "Conclusion: Poor precision, high accuracy"
   ],
   "metadata": {
    "collapsed": false
   },
   "id": "2e9fbfe193749c0a"
  },
  {
   "cell_type": "markdown",
   "source": [
    "### Support Vector Machines"
   ],
   "metadata": {
    "collapsed": false
   },
   "id": "53695124165d1ab8"
  },
  {
   "cell_type": "code",
   "execution_count": 13,
   "outputs": [
    {
     "name": "stdout",
     "output_type": "stream",
     "text": [
      "Accuracy:  0.7037037037037037 PRFS:  (array([0.68571429, 0.73684211]), array([0.82758621, 0.56      ]), array([0.75      , 0.63636364]), array([29, 25], dtype=int64))\n"
     ]
    }
   ],
   "source": [
    "from sklearn import svm\n",
    "clf = svm.SVC()\n",
    "clf.fit(X_train, y_train)\n",
    "\n",
    "y_pred = clf.predict(X_test)\n",
    "acc = accuracy_score(y_test, y_pred, normalize=True)\n",
    "prfs = precision_recall_fscore_support(y_test, y_pred)\n",
    "\n",
    "print(\"Accuracy: \", acc, \"PRFS: \", prfs)"
   ],
   "metadata": {
    "collapsed": false,
    "ExecuteTime": {
     "end_time": "2024-02-28T18:54:19.434776700Z",
     "start_time": "2024-02-28T18:54:19.391222900Z"
    }
   },
   "id": "59f8e0c01072b0eb"
  },
  {
   "cell_type": "markdown",
   "source": [
    "### Random Forest"
   ],
   "metadata": {
    "collapsed": false
   },
   "id": "89132e6b57eac5c9"
  },
  {
   "cell_type": "code",
   "execution_count": 14,
   "outputs": [
    {
     "name": "stdout",
     "output_type": "stream",
     "text": [
      "Accuracy:  0.7592592592592593 PRFS:  (array([0.73529412, 0.8       ]), array([0.86206897, 0.64      ]), array([0.79365079, 0.71111111]), array([29, 25], dtype=int64))\n"
     ]
    }
   ],
   "source": [
    "from sklearn.ensemble import RandomForestClassifier\n",
    "RFM = RandomForestClassifier(n_estimators=10)\n",
    "RFM.fit(X_train, y_train)\n",
    "\n",
    "y_pred = RFM.predict(X_test)\n",
    "acc = accuracy_score(y_test, y_pred, normalize=True)\n",
    "prfs = precision_recall_fscore_support(y_test, y_pred)\n",
    "\n",
    "print(\"Accuracy: \", acc, \"PRFS: \", prfs)"
   ],
   "metadata": {
    "collapsed": false,
    "ExecuteTime": {
     "end_time": "2024-02-28T18:54:19.453514500Z",
     "start_time": "2024-02-28T18:54:19.405388800Z"
    }
   },
   "id": "4a4ac7a7c1f65165"
  },
  {
   "cell_type": "markdown",
   "source": [
    "### Naive Bayes"
   ],
   "metadata": {
    "collapsed": false
   },
   "id": "2e7e17df5868ff30"
  },
  {
   "cell_type": "code",
   "execution_count": 21,
   "outputs": [
    {
     "name": "stdout",
     "output_type": "stream",
     "text": [
      "Accuracy:  0.6666666666666666 PRFS:  (array([0.65714286, 0.68421053]), array([0.79310345, 0.52      ]), array([0.71875   , 0.59090909]), array([29, 25], dtype=int64))\n"
     ]
    }
   ],
   "source": [
    "from sklearn.naive_bayes import BernoulliNB, GaussianNB, MultinomialNB\n",
    "clf = GaussianNB()\n",
    "clf.fit(X_train, y_train)\n",
    "\n",
    "y_pred = clf.predict(X_test)\n",
    "acc = accuracy_score(y_test, y_pred, normalize=True)\n",
    "prfs = precision_recall_fscore_support(y_test, y_pred)\n",
    "\n",
    "print(\"Accuracy: \", acc, \"PRFS: \", prfs)"
   ],
   "metadata": {
    "collapsed": false,
    "ExecuteTime": {
     "end_time": "2024-02-28T18:55:59.417899100Z",
     "start_time": "2024-02-28T18:55:59.402294100Z"
    }
   },
   "id": "e985e2e5a3303777"
  },
  {
   "cell_type": "markdown",
   "source": [
    "### KNN"
   ],
   "metadata": {
    "collapsed": false
   },
   "id": "f148e65b42d12e8d"
  },
  {
   "cell_type": "code",
   "execution_count": 16,
   "outputs": [
    {
     "name": "stdout",
     "output_type": "stream",
     "text": [
      "Accuracy:  0.6851851851851852 PRFS:  (array([0.71428571, 0.65384615]), array([0.68965517, 0.68      ]), array([0.70175439, 0.66666667]), array([29, 25], dtype=int64))\n"
     ]
    }
   ],
   "source": [
    "from sklearn.neighbors import KNeighborsClassifier\n",
    "clf = KNeighborsClassifier(n_neighbors=3)\n",
    "clf.fit(X_train, y_train)\n",
    "\n",
    "y_pred = clf.predict(X_test)\n",
    "acc = accuracy_score(y_test, y_pred, normalize=True)\n",
    "prfs = precision_recall_fscore_support(y_test, y_pred)\n",
    "\n",
    "print(\"Accuracy: \", acc, \"PRFS: \", prfs)"
   ],
   "metadata": {
    "collapsed": false,
    "ExecuteTime": {
     "end_time": "2024-02-28T18:54:19.568212700Z",
     "start_time": "2024-02-28T18:54:19.452510600Z"
    }
   },
   "id": "8aeb6a7e5632b138"
  },
  {
   "cell_type": "markdown",
   "source": [
    "# PREDICT A SONG HERE"
   ],
   "metadata": {
    "collapsed": false
   },
   "id": "d2903b7193844b6d"
  },
  {
   "cell_type": "code",
   "execution_count": 23,
   "outputs": [
    {
     "name": "stderr",
     "output_type": "stream",
     "text": [
      "C:\\Users\\kiera\\dev\\WillHeSave\\venv\\lib\\site-packages\\sklearn\\base.py:493: UserWarning: X does not have valid feature names, but RandomForestClassifier was fitted with feature names\n",
      "  warnings.warn(\n"
     ]
    },
    {
     "data": {
      "text/plain": "array([1])"
     },
     "execution_count": 23,
     "metadata": {},
     "output_type": "execute_result"
    }
   ],
   "source": [
    "song_link = input(\"Song Link: \")\n",
    "\n",
    "arr = create_arr_from_song(song_link)\n",
    "# print(arr[:13], arr[18:len(arr)])\n",
    "data = arr[:13]\n",
    "data.extend(arr[18:])\n",
    "# print(data)\n",
    "X_input = np.array([data])\n",
    "X_input = X_input.astype(float)\n",
    "\n",
    "RFM.predict(X_input)"
   ],
   "metadata": {
    "collapsed": false,
    "ExecuteTime": {
     "end_time": "2024-02-28T18:57:04.441864600Z",
     "start_time": "2024-02-28T18:57:02.457339700Z"
    }
   },
   "id": "80e2e902ee98e37f"
  },
  {
   "cell_type": "markdown",
   "source": [
    "# PREDICT PLAYLIST HERE"
   ],
   "metadata": {
    "collapsed": false
   },
   "id": "2ca48a485fcf46b4"
  },
  {
   "cell_type": "code",
   "execution_count": 18,
   "outputs": [
    {
     "ename": "SpotifyException",
     "evalue": "http status: 400, code:-1 - Unsupported URL / URI., reason: None",
     "output_type": "error",
     "traceback": [
      "\u001B[1;31m---------------------------------------------------------------------------\u001B[0m",
      "\u001B[1;31mSpotifyException\u001B[0m                          Traceback (most recent call last)",
      "Cell \u001B[1;32mIn[18], line 3\u001B[0m\n\u001B[0;32m      1\u001B[0m playlist_link \u001B[38;5;241m=\u001B[39m \u001B[38;5;28minput\u001B[39m(\u001B[38;5;124m\"\u001B[39m\u001B[38;5;124mPlaylist Link: \u001B[39m\u001B[38;5;124m\"\u001B[39m)\n\u001B[1;32m----> 3\u001B[0m df \u001B[38;5;241m=\u001B[39m \u001B[43mcreate_df_from_playlist\u001B[49m\u001B[43m(\u001B[49m\u001B[43mplaylist_link\u001B[49m\u001B[43m,\u001B[49m\u001B[43m \u001B[49m\u001B[38;5;241;43m0\u001B[39;49m\u001B[43m)\u001B[49m\n\u001B[0;32m      4\u001B[0m X_input \u001B[38;5;241m=\u001B[39m df[feature_cols]\n\u001B[0;32m      5\u001B[0m \u001B[38;5;66;03m# print(arr[:13], arr[18:len(arr)])\u001B[39;00m\n\u001B[0;32m      6\u001B[0m \u001B[38;5;66;03m# data = arr[:13]\u001B[39;00m\n\u001B[0;32m      7\u001B[0m \u001B[38;5;66;03m# data.extend(arr[18:])\u001B[39;00m\n\u001B[0;32m      8\u001B[0m \u001B[38;5;66;03m# print(data)\u001B[39;00m\n",
      "Cell \u001B[1;32mIn[4], line 3\u001B[0m, in \u001B[0;36mcreate_df_from_playlist\u001B[1;34m(playlist_link, save)\u001B[0m\n\u001B[0;32m      1\u001B[0m \u001B[38;5;28;01mdef\u001B[39;00m \u001B[38;5;21mcreate_df_from_playlist\u001B[39m(playlist_link: \u001B[38;5;28mstr\u001B[39m, save: \u001B[38;5;28mint\u001B[39m):\n\u001B[0;32m      2\u001B[0m     playlist_URI \u001B[38;5;241m=\u001B[39m playlist_link\u001B[38;5;241m.\u001B[39msplit(\u001B[38;5;124m\"\u001B[39m\u001B[38;5;124m/\u001B[39m\u001B[38;5;124m\"\u001B[39m)[\u001B[38;5;241m-\u001B[39m\u001B[38;5;241m1\u001B[39m]\u001B[38;5;241m.\u001B[39msplit(\u001B[38;5;124m\"\u001B[39m\u001B[38;5;124m?\u001B[39m\u001B[38;5;124m\"\u001B[39m)[\u001B[38;5;241m0\u001B[39m]\n\u001B[1;32m----> 3\u001B[0m     track_uris \u001B[38;5;241m=\u001B[39m [x[\u001B[38;5;124m\"\u001B[39m\u001B[38;5;124mtrack\u001B[39m\u001B[38;5;124m\"\u001B[39m][\u001B[38;5;124m\"\u001B[39m\u001B[38;5;124muri\u001B[39m\u001B[38;5;124m\"\u001B[39m] \u001B[38;5;28;01mfor\u001B[39;00m x \u001B[38;5;129;01min\u001B[39;00m \u001B[43msp\u001B[49m\u001B[38;5;241;43m.\u001B[39;49m\u001B[43mplaylist_tracks\u001B[49m\u001B[43m(\u001B[49m\u001B[43mplaylist_URI\u001B[49m\u001B[43m)\u001B[49m[\u001B[38;5;124m\"\u001B[39m\u001B[38;5;124mitems\u001B[39m\u001B[38;5;124m\"\u001B[39m]]\n\u001B[0;32m      4\u001B[0m     \u001B[38;5;66;03m# print(sp.playlist_tracks(playlist_URI)[\"items\"])\u001B[39;00m\n\u001B[0;32m      6\u001B[0m     features \u001B[38;5;241m=\u001B[39m sp\u001B[38;5;241m.\u001B[39maudio_features(track_uris[\u001B[38;5;241m0\u001B[39m])[\u001B[38;5;241m0\u001B[39m]\n",
      "File \u001B[1;32m~\\dev\\WillHeSave\\venv\\lib\\site-packages\\spotipy\\client.py:683\u001B[0m, in \u001B[0;36mSpotify.playlist_tracks\u001B[1;34m(self, playlist_id, fields, limit, offset, market, additional_types)\u001B[0m\n\u001B[0;32m    667\u001B[0m \u001B[38;5;250m\u001B[39m\u001B[38;5;124;03m\"\"\" Get full details of the tracks of a playlist.\u001B[39;00m\n\u001B[0;32m    668\u001B[0m \n\u001B[0;32m    669\u001B[0m \u001B[38;5;124;03m    Parameters:\u001B[39;00m\n\u001B[1;32m   (...)\u001B[0m\n\u001B[0;32m    676\u001B[0m \u001B[38;5;124;03m                             valid types are: track and episode\u001B[39;00m\n\u001B[0;32m    677\u001B[0m \u001B[38;5;124;03m\"\"\"\u001B[39;00m\n\u001B[0;32m    678\u001B[0m warnings\u001B[38;5;241m.\u001B[39mwarn(\n\u001B[0;32m    679\u001B[0m     \u001B[38;5;124m\"\u001B[39m\u001B[38;5;124mYou should use `playlist_items(playlist_id, ...,\u001B[39m\u001B[38;5;124m\"\u001B[39m\n\u001B[0;32m    680\u001B[0m     \u001B[38;5;124m\"\u001B[39m\u001B[38;5;124madditional_types=(\u001B[39m\u001B[38;5;124m'\u001B[39m\u001B[38;5;124mtrack\u001B[39m\u001B[38;5;124m'\u001B[39m\u001B[38;5;124m,))` instead\u001B[39m\u001B[38;5;124m\"\u001B[39m,\n\u001B[0;32m    681\u001B[0m     \u001B[38;5;167;01mDeprecationWarning\u001B[39;00m,\n\u001B[0;32m    682\u001B[0m )\n\u001B[1;32m--> 683\u001B[0m \u001B[38;5;28;01mreturn\u001B[39;00m \u001B[38;5;28;43mself\u001B[39;49m\u001B[38;5;241;43m.\u001B[39;49m\u001B[43mplaylist_items\u001B[49m\u001B[43m(\u001B[49m\u001B[43mplaylist_id\u001B[49m\u001B[43m,\u001B[49m\u001B[43m \u001B[49m\u001B[43mfields\u001B[49m\u001B[43m,\u001B[49m\u001B[43m \u001B[49m\u001B[43mlimit\u001B[49m\u001B[43m,\u001B[49m\u001B[43m \u001B[49m\u001B[43moffset\u001B[49m\u001B[43m,\u001B[49m\n\u001B[0;32m    684\u001B[0m \u001B[43m                           \u001B[49m\u001B[43mmarket\u001B[49m\u001B[43m,\u001B[49m\u001B[43m \u001B[49m\u001B[43madditional_types\u001B[49m\u001B[43m)\u001B[49m\n",
      "File \u001B[1;32m~\\dev\\WillHeSave\\venv\\lib\\site-packages\\spotipy\\client.py:706\u001B[0m, in \u001B[0;36mSpotify.playlist_items\u001B[1;34m(self, playlist_id, fields, limit, offset, market, additional_types)\u001B[0m\n\u001B[0;32m    686\u001B[0m \u001B[38;5;28;01mdef\u001B[39;00m \u001B[38;5;21mplaylist_items\u001B[39m(\n\u001B[0;32m    687\u001B[0m     \u001B[38;5;28mself\u001B[39m,\n\u001B[0;32m    688\u001B[0m     playlist_id,\n\u001B[1;32m   (...)\u001B[0m\n\u001B[0;32m    693\u001B[0m     additional_types\u001B[38;5;241m=\u001B[39m(\u001B[38;5;124m\"\u001B[39m\u001B[38;5;124mtrack\u001B[39m\u001B[38;5;124m\"\u001B[39m, \u001B[38;5;124m\"\u001B[39m\u001B[38;5;124mepisode\u001B[39m\u001B[38;5;124m\"\u001B[39m)\n\u001B[0;32m    694\u001B[0m ):\n\u001B[0;32m    695\u001B[0m \u001B[38;5;250m    \u001B[39m\u001B[38;5;124;03m\"\"\" Get full details of the tracks and episodes of a playlist.\u001B[39;00m\n\u001B[0;32m    696\u001B[0m \n\u001B[0;32m    697\u001B[0m \u001B[38;5;124;03m        Parameters:\u001B[39;00m\n\u001B[1;32m   (...)\u001B[0m\n\u001B[0;32m    704\u001B[0m \u001B[38;5;124;03m                                 valid types are: track and episode\u001B[39;00m\n\u001B[0;32m    705\u001B[0m \u001B[38;5;124;03m    \"\"\"\u001B[39;00m\n\u001B[1;32m--> 706\u001B[0m     plid \u001B[38;5;241m=\u001B[39m \u001B[38;5;28;43mself\u001B[39;49m\u001B[38;5;241;43m.\u001B[39;49m\u001B[43m_get_id\u001B[49m\u001B[43m(\u001B[49m\u001B[38;5;124;43m\"\u001B[39;49m\u001B[38;5;124;43mplaylist\u001B[39;49m\u001B[38;5;124;43m\"\u001B[39;49m\u001B[43m,\u001B[49m\u001B[43m \u001B[49m\u001B[43mplaylist_id\u001B[49m\u001B[43m)\u001B[49m\n\u001B[0;32m    707\u001B[0m     \u001B[38;5;28;01mreturn\u001B[39;00m \u001B[38;5;28mself\u001B[39m\u001B[38;5;241m.\u001B[39m_get(\n\u001B[0;32m    708\u001B[0m         \u001B[38;5;124m\"\u001B[39m\u001B[38;5;124mplaylists/\u001B[39m\u001B[38;5;132;01m%s\u001B[39;00m\u001B[38;5;124m/tracks\u001B[39m\u001B[38;5;124m\"\u001B[39m \u001B[38;5;241m%\u001B[39m (plid),\n\u001B[0;32m    709\u001B[0m         limit\u001B[38;5;241m=\u001B[39mlimit,\n\u001B[1;32m   (...)\u001B[0m\n\u001B[0;32m    713\u001B[0m         additional_types\u001B[38;5;241m=\u001B[39m\u001B[38;5;124m\"\u001B[39m\u001B[38;5;124m,\u001B[39m\u001B[38;5;124m\"\u001B[39m\u001B[38;5;241m.\u001B[39mjoin(additional_types)\n\u001B[0;32m    714\u001B[0m     )\n",
      "File \u001B[1;32m~\\dev\\WillHeSave\\venv\\lib\\site-packages\\spotipy\\client.py:1990\u001B[0m, in \u001B[0;36mSpotify._get_id\u001B[1;34m(self, type, id)\u001B[0m\n\u001B[0;32m   1987\u001B[0m     \u001B[38;5;28;01mreturn\u001B[39;00m \u001B[38;5;28mid\u001B[39m\n\u001B[0;32m   1989\u001B[0m \u001B[38;5;66;03m# TODO change to a ValueError in v3\u001B[39;00m\n\u001B[1;32m-> 1990\u001B[0m \u001B[38;5;28;01mraise\u001B[39;00m SpotifyException(\u001B[38;5;241m400\u001B[39m, \u001B[38;5;241m-\u001B[39m\u001B[38;5;241m1\u001B[39m, \u001B[38;5;124m\"\u001B[39m\u001B[38;5;124mUnsupported URL / URI.\u001B[39m\u001B[38;5;124m\"\u001B[39m)\n",
      "\u001B[1;31mSpotifyException\u001B[0m: http status: 400, code:-1 - Unsupported URL / URI., reason: None"
     ]
    }
   ],
   "source": [
    "playlist_link = input(\"Playlist Link: \")\n",
    "\n",
    "df = create_df_from_playlist(playlist_link, 0)\n",
    "X_input = df[feature_cols]\n",
    "# print(arr[:13], arr[18:len(arr)])\n",
    "# data = arr[:13]\n",
    "# data.extend(arr[18:])\n",
    "# print(data)\n",
    "X_input = X_input.astype(float)\n",
    "y_input = df[\"save\"]\n",
    "y_input = y_input.astype(int)\n",
    "\n",
    "y_pred = RFM.predict(X_input)\n",
    "y_pred"
   ],
   "metadata": {
    "collapsed": false,
    "ExecuteTime": {
     "end_time": "2024-02-28T18:54:24.280929400Z",
     "start_time": "2024-02-28T18:54:21.935622100Z"
    }
   },
   "id": "d34c117ce36c34da"
  },
  {
   "cell_type": "code",
   "execution_count": null,
   "outputs": [],
   "source": [
    "acc = accuracy_score(y_input, y_pred, normalize=True)\n",
    "1 - acc"
   ],
   "metadata": {
    "collapsed": false,
    "ExecuteTime": {
     "start_time": "2024-02-28T18:54:24.275857900Z"
    }
   },
   "id": "cdedfddc37198637"
  }
 ],
 "metadata": {
  "kernelspec": {
   "display_name": "Python 3",
   "language": "python",
   "name": "python3"
  },
  "language_info": {
   "codemirror_mode": {
    "name": "ipython",
    "version": 2
   },
   "file_extension": ".py",
   "mimetype": "text/x-python",
   "name": "python",
   "nbconvert_exporter": "python",
   "pygments_lexer": "ipython2",
   "version": "2.7.6"
  }
 },
 "nbformat": 4,
 "nbformat_minor": 5
}
