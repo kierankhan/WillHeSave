{
 "cells": [
  {
   "cell_type": "code",
   "execution_count": 186,
   "id": "initial_id",
   "metadata": {
    "collapsed": true,
    "ExecuteTime": {
     "end_time": "2024-02-27T03:39:54.281303200Z",
     "start_time": "2024-02-27T03:39:54.256355800Z"
    }
   },
   "outputs": [],
   "source": [
    "import pandas as pd\n",
    "import spotipy\n",
    "from spotipy.oauth2 import SpotifyClientCredentials"
   ]
  },
  {
   "cell_type": "code",
   "execution_count": 187,
   "outputs": [],
   "source": [
    "cid=\"f37bdaae60994d17b019127237812444\"\n",
    "secret=\"e2a5dd85540e41fea85b92cbfcf92d45\"\n",
    "\n",
    "client_credentials_manager = SpotifyClientCredentials(client_id=cid, client_secret=secret)\n",
    "sp = spotipy.Spotify(client_credentials_manager = client_credentials_manager)"
   ],
   "metadata": {
    "collapsed": false,
    "ExecuteTime": {
     "end_time": "2024-02-27T03:39:54.297874800Z",
     "start_time": "2024-02-27T03:39:54.272937300Z"
    }
   },
   "id": "8afd6c5f2211b58e"
  },
  {
   "cell_type": "code",
   "execution_count": 188,
   "outputs": [
    {
     "data": {
      "text/plain": "Empty DataFrame\nColumns: [track_name, id, track_pop, artist_name, artist_pop, artist_genre, danceability, energy, key, loudness, mode, speechiness, acousticness, instrumentalness, liveness, valence, tempo, type, id, uri, track_href, analysis_url, duration_ms, time_signature, save]\nIndex: []\n\n[0 rows x 25 columns]",
      "text/html": "<div>\n<style scoped>\n    .dataframe tbody tr th:only-of-type {\n        vertical-align: middle;\n    }\n\n    .dataframe tbody tr th {\n        vertical-align: top;\n    }\n\n    .dataframe thead th {\n        text-align: right;\n    }\n</style>\n<table border=\"1\" class=\"dataframe\">\n  <thead>\n    <tr style=\"text-align: right;\">\n      <th></th>\n      <th>track_name</th>\n      <th>id</th>\n      <th>track_pop</th>\n      <th>artist_name</th>\n      <th>artist_pop</th>\n      <th>artist_genre</th>\n      <th>danceability</th>\n      <th>energy</th>\n      <th>key</th>\n      <th>loudness</th>\n      <th>...</th>\n      <th>valence</th>\n      <th>tempo</th>\n      <th>type</th>\n      <th>id</th>\n      <th>uri</th>\n      <th>track_href</th>\n      <th>analysis_url</th>\n      <th>duration_ms</th>\n      <th>time_signature</th>\n      <th>save</th>\n    </tr>\n  </thead>\n  <tbody>\n  </tbody>\n</table>\n<p>0 rows × 25 columns</p>\n</div>"
     },
     "execution_count": 188,
     "metadata": {},
     "output_type": "execute_result"
    }
   ],
   "source": [
    "playlist_link = \"https://open.spotify.com/playlist/6vOYm55EbfPnFpAgZynn6I?si=9070e8f011494eb0\"\n",
    "playlist_URI = playlist_link.split(\"/\")[-1].split(\"?\")[0]\n",
    "track_uris = [x[\"track\"][\"uri\"] for x in sp.playlist_tracks(playlist_URI)[\"items\"]]\n",
    "\n",
    "# track_uri = track[\"track\"][\"uri\"]\n",
    "# \n",
    "# #Track name\n",
    "# track_name = track[\"track\"][\"name\"]\n",
    "features = sp.audio_features(track_uris[0])[0]\n",
    "cols = [\"track_name\", \"id\", \"track_pop\", \"artist_name\", \"artist_pop\", \"artist_genre\"]\n",
    "cols.extend(list(features.keys()))\n",
    "cols.append(\"save\")\n",
    "df = pd.DataFrame(columns=cols)\n",
    "df\n"
   ],
   "metadata": {
    "collapsed": false,
    "ExecuteTime": {
     "end_time": "2024-02-27T03:39:54.698893Z",
     "start_time": "2024-02-27T03:39:54.281303200Z"
    }
   },
   "id": "7623e05dc39afe36"
  },
  {
   "cell_type": "code",
   "execution_count": 189,
   "outputs": [
    {
     "name": "stderr",
     "output_type": "stream",
     "text": [
      "C:\\Users\\kiera\\AppData\\Local\\Temp\\ipykernel_22904\\2847387916.py:23: FutureWarning: The behavior of DataFrame concatenation with empty or all-NA entries is deprecated. In a future version, this will no longer exclude empty or all-NA columns when determining the result dtypes. To retain the old behavior, exclude the relevant entries before the concat operation.\n",
      "  df = pd.concat([df, new_row], ignore_index=True)\n"
     ]
    },
    {
     "data": {
      "text/plain": "                  track_name                                    id track_pop  \\\n0                Day Stalker  spotify:track:4bRfxOqnnsz24rruXiJqzZ        47   \n1   Head Over Heels / Broken  spotify:track:0aF9m87P8Tja3NUMv4DfHt        67   \n2     Can You Hear The Music  spotify:track:4VnDmjYCZkyeqeb0NIKqdA        77   \n3            Heaven Up There  spotify:track:3Rl26h1HiMCV0HFHHVb2IM        58   \n4                      Intro  spotify:track:6XDFFeinPXgy3auyC7huoC        49   \n5                 Closetowhy  spotify:track:6ynpjKUatAPVLmfgzTXvOG        44   \n6                   Dr. Ford  spotify:track:1pm8TqG9dNIcMGTQNzjYh9        50   \n7                    TRAITOR  spotify:track:3HpJISqibQolpRzAWjBbnP        45   \n8           Change the Times  spotify:track:5iRhXmdfV03kDNEB3FRb8e        43   \n9                Deutschland  spotify:track:2bPGTMB5sFfFYQ2YvSmup0        79   \n10              Paul's Dream  spotify:track:1Qr17u2S9kNDzTeWAJCY5N        56   \n11     Catch Me (feat. Naaz)  spotify:track:4UIAJ1WnUvAPPdkzq2rn1i        53   \n12                      Liar  spotify:track:7EUhSxz4srS8pqh1cENbLB        61   \n13               Remember me  spotify:track:1kCF1WET7woJ5968zEDw7d        51   \n14           The Right Stuff  spotify:track:6jBbj4bWSI0y8OtLxcv9DT         4   \n\n         artist_name artist_pop  \\\n0     Carpenter Brut         54   \n1    Tears For Fears         74   \n2   Ludwig Göransson         66   \n3             Palace         59   \n4                M83         70   \n5            Parcels         64   \n6      Ramin Djawadi         66   \n7     KOHTA YAMAMOTO         51   \n8      Visit Neptune         24   \n9          Rammstein         78   \n10       Hans Zimmer         76   \n11       Yellow Claw         60   \n12          Paramore         77   \n13    Leslie Parrish         46   \n14       Bryan Ferry         57   \n\n                                         artist_genre  danceability  energy  \\\n0                   [cyberpunk, darksynth, synthwave]         0.477  0.7620   \n1   [new romantic, new wave, new wave pop, permane...         0.298  0.7040   \n2   [nordic soundtrack, orchestral soundtrack, sou...         0.190  0.4350   \n3                                [english indie rock]         0.424  0.4200   \n4   [french shoegaze, french synthpop, indietronic...         0.408  0.7600   \n5                         [aussietronica, indie soul]         0.855  0.5780   \n6   [german soundtrack, orchestral soundtrack, sco...         0.214  0.0732   \n7                                                  []         0.487  0.6930   \n8                                                  []         0.426  0.7630   \n9   [german metal, industrial, industrial metal, i...         0.521  0.8950   \n10  [german soundtrack, orchestral soundtrack, sou...         0.184  0.2220   \n11       [dutch house, edm, electro house, pop dance]         0.560  0.9160   \n12  [candy pop, modern rock, pixie, pop, pop emo, ...         0.512  0.4540   \n13                         [eurobeat, super eurobeat]         0.578  0.9840   \n14  [glam rock, melancholia, new romantic, new wav...         0.616  0.9350   \n\n   key  loudness  ... valence    tempo            type  \\\n0   11    -8.164  ...  0.2460  136.982  audio_features   \n1    7    -9.905  ...  0.6550   95.023  audio_features   \n2    4   -12.456  ...  0.0643  138.515  audio_features   \n3    4   -10.536  ...  0.1760  138.079  audio_features   \n4    6    -6.844  ...  0.0380  105.008  audio_features   \n5    1   -11.366  ...  0.4490  109.995  audio_features   \n6   11   -18.331  ...  0.0379  130.013  audio_features   \n7    2   -10.906  ...  0.0689  104.980  audio_features   \n8    1   -10.937  ...  0.3880  148.981  audio_features   \n9    7    -5.242  ...  0.2370  120.117  audio_features   \n10   7   -12.428  ...  0.0356  114.592  audio_features   \n11   7    -3.328  ...  0.5850  144.933  audio_features   \n12   6   -11.993  ...  0.2700  148.012  audio_features   \n13   5    -5.973  ...  0.9600  153.773  audio_features   \n14   7    -6.159  ...  0.6920  101.281  audio_features   \n\n                        id                                   uri  \\\n0   4bRfxOqnnsz24rruXiJqzZ  spotify:track:4bRfxOqnnsz24rruXiJqzZ   \n1   0aF9m87P8Tja3NUMv4DfHt  spotify:track:0aF9m87P8Tja3NUMv4DfHt   \n2   4VnDmjYCZkyeqeb0NIKqdA  spotify:track:4VnDmjYCZkyeqeb0NIKqdA   \n3   3Rl26h1HiMCV0HFHHVb2IM  spotify:track:3Rl26h1HiMCV0HFHHVb2IM   \n4   6XDFFeinPXgy3auyC7huoC  spotify:track:6XDFFeinPXgy3auyC7huoC   \n5   6ynpjKUatAPVLmfgzTXvOG  spotify:track:6ynpjKUatAPVLmfgzTXvOG   \n6   1pm8TqG9dNIcMGTQNzjYh9  spotify:track:1pm8TqG9dNIcMGTQNzjYh9   \n7   3HpJISqibQolpRzAWjBbnP  spotify:track:3HpJISqibQolpRzAWjBbnP   \n8   5iRhXmdfV03kDNEB3FRb8e  spotify:track:5iRhXmdfV03kDNEB3FRb8e   \n9   2bPGTMB5sFfFYQ2YvSmup0  spotify:track:2bPGTMB5sFfFYQ2YvSmup0   \n10  1Qr17u2S9kNDzTeWAJCY5N  spotify:track:1Qr17u2S9kNDzTeWAJCY5N   \n11  4UIAJ1WnUvAPPdkzq2rn1i  spotify:track:4UIAJ1WnUvAPPdkzq2rn1i   \n12  7EUhSxz4srS8pqh1cENbLB  spotify:track:7EUhSxz4srS8pqh1cENbLB   \n13  1kCF1WET7woJ5968zEDw7d  spotify:track:1kCF1WET7woJ5968zEDw7d   \n14  6jBbj4bWSI0y8OtLxcv9DT  spotify:track:6jBbj4bWSI0y8OtLxcv9DT   \n\n                                           track_href  \\\n0   https://api.spotify.com/v1/tracks/4bRfxOqnnsz2...   \n1   https://api.spotify.com/v1/tracks/0aF9m87P8Tja...   \n2   https://api.spotify.com/v1/tracks/4VnDmjYCZkye...   \n3   https://api.spotify.com/v1/tracks/3Rl26h1HiMCV...   \n4   https://api.spotify.com/v1/tracks/6XDFFeinPXgy...   \n5   https://api.spotify.com/v1/tracks/6ynpjKUatAPV...   \n6   https://api.spotify.com/v1/tracks/1pm8TqG9dNIc...   \n7   https://api.spotify.com/v1/tracks/3HpJISqibQol...   \n8   https://api.spotify.com/v1/tracks/5iRhXmdfV03k...   \n9   https://api.spotify.com/v1/tracks/2bPGTMB5sFfF...   \n10  https://api.spotify.com/v1/tracks/1Qr17u2S9kND...   \n11  https://api.spotify.com/v1/tracks/4UIAJ1WnUvAP...   \n12  https://api.spotify.com/v1/tracks/7EUhSxz4srS8...   \n13  https://api.spotify.com/v1/tracks/1kCF1WET7woJ...   \n14  https://api.spotify.com/v1/tracks/6jBbj4bWSI0y...   \n\n                                         analysis_url duration_ms  \\\n0   https://api.spotify.com/v1/audio-analysis/4bRf...      224240   \n1   https://api.spotify.com/v1/audio-analysis/0aF9...      302120   \n2   https://api.spotify.com/v1/audio-analysis/4VnD...      110160   \n3   https://api.spotify.com/v1/audio-analysis/3Rl2...      437577   \n4   https://api.spotify.com/v1/audio-analysis/6XDF...      322760   \n5   https://api.spotify.com/v1/audio-analysis/6ynp...      330866   \n6   https://api.spotify.com/v1/audio-analysis/1pm8...      330238   \n7   https://api.spotify.com/v1/audio-analysis/3HpJ...      287320   \n8   https://api.spotify.com/v1/audio-analysis/5iRh...      180000   \n9   https://api.spotify.com/v1/audio-analysis/2bPG...      322340   \n10  https://api.spotify.com/v1/audio-analysis/1Qr1...      423310   \n11  https://api.spotify.com/v1/audio-analysis/4UIA...      162383   \n12  https://api.spotify.com/v1/audio-analysis/7EUh...      261869   \n13  https://api.spotify.com/v1/audio-analysis/1kCF...      158309   \n14  https://api.spotify.com/v1/audio-analysis/6jBb...      263333   \n\n   time_signature save  \n0               4    1  \n1               4    1  \n2               4    1  \n3               4    1  \n4               4    1  \n5               4    1  \n6               4    1  \n7               4    1  \n8               4    1  \n9               4    1  \n10              3    1  \n11              4    1  \n12              4    1  \n13              5    1  \n14              4    1  \n\n[15 rows x 25 columns]",
      "text/html": "<div>\n<style scoped>\n    .dataframe tbody tr th:only-of-type {\n        vertical-align: middle;\n    }\n\n    .dataframe tbody tr th {\n        vertical-align: top;\n    }\n\n    .dataframe thead th {\n        text-align: right;\n    }\n</style>\n<table border=\"1\" class=\"dataframe\">\n  <thead>\n    <tr style=\"text-align: right;\">\n      <th></th>\n      <th>track_name</th>\n      <th>id</th>\n      <th>track_pop</th>\n      <th>artist_name</th>\n      <th>artist_pop</th>\n      <th>artist_genre</th>\n      <th>danceability</th>\n      <th>energy</th>\n      <th>key</th>\n      <th>loudness</th>\n      <th>...</th>\n      <th>valence</th>\n      <th>tempo</th>\n      <th>type</th>\n      <th>id</th>\n      <th>uri</th>\n      <th>track_href</th>\n      <th>analysis_url</th>\n      <th>duration_ms</th>\n      <th>time_signature</th>\n      <th>save</th>\n    </tr>\n  </thead>\n  <tbody>\n    <tr>\n      <th>0</th>\n      <td>Day Stalker</td>\n      <td>spotify:track:4bRfxOqnnsz24rruXiJqzZ</td>\n      <td>47</td>\n      <td>Carpenter Brut</td>\n      <td>54</td>\n      <td>[cyberpunk, darksynth, synthwave]</td>\n      <td>0.477</td>\n      <td>0.7620</td>\n      <td>11</td>\n      <td>-8.164</td>\n      <td>...</td>\n      <td>0.2460</td>\n      <td>136.982</td>\n      <td>audio_features</td>\n      <td>4bRfxOqnnsz24rruXiJqzZ</td>\n      <td>spotify:track:4bRfxOqnnsz24rruXiJqzZ</td>\n      <td>https://api.spotify.com/v1/tracks/4bRfxOqnnsz2...</td>\n      <td>https://api.spotify.com/v1/audio-analysis/4bRf...</td>\n      <td>224240</td>\n      <td>4</td>\n      <td>1</td>\n    </tr>\n    <tr>\n      <th>1</th>\n      <td>Head Over Heels / Broken</td>\n      <td>spotify:track:0aF9m87P8Tja3NUMv4DfHt</td>\n      <td>67</td>\n      <td>Tears For Fears</td>\n      <td>74</td>\n      <td>[new romantic, new wave, new wave pop, permane...</td>\n      <td>0.298</td>\n      <td>0.7040</td>\n      <td>7</td>\n      <td>-9.905</td>\n      <td>...</td>\n      <td>0.6550</td>\n      <td>95.023</td>\n      <td>audio_features</td>\n      <td>0aF9m87P8Tja3NUMv4DfHt</td>\n      <td>spotify:track:0aF9m87P8Tja3NUMv4DfHt</td>\n      <td>https://api.spotify.com/v1/tracks/0aF9m87P8Tja...</td>\n      <td>https://api.spotify.com/v1/audio-analysis/0aF9...</td>\n      <td>302120</td>\n      <td>4</td>\n      <td>1</td>\n    </tr>\n    <tr>\n      <th>2</th>\n      <td>Can You Hear The Music</td>\n      <td>spotify:track:4VnDmjYCZkyeqeb0NIKqdA</td>\n      <td>77</td>\n      <td>Ludwig Göransson</td>\n      <td>66</td>\n      <td>[nordic soundtrack, orchestral soundtrack, sou...</td>\n      <td>0.190</td>\n      <td>0.4350</td>\n      <td>4</td>\n      <td>-12.456</td>\n      <td>...</td>\n      <td>0.0643</td>\n      <td>138.515</td>\n      <td>audio_features</td>\n      <td>4VnDmjYCZkyeqeb0NIKqdA</td>\n      <td>spotify:track:4VnDmjYCZkyeqeb0NIKqdA</td>\n      <td>https://api.spotify.com/v1/tracks/4VnDmjYCZkye...</td>\n      <td>https://api.spotify.com/v1/audio-analysis/4VnD...</td>\n      <td>110160</td>\n      <td>4</td>\n      <td>1</td>\n    </tr>\n    <tr>\n      <th>3</th>\n      <td>Heaven Up There</td>\n      <td>spotify:track:3Rl26h1HiMCV0HFHHVb2IM</td>\n      <td>58</td>\n      <td>Palace</td>\n      <td>59</td>\n      <td>[english indie rock]</td>\n      <td>0.424</td>\n      <td>0.4200</td>\n      <td>4</td>\n      <td>-10.536</td>\n      <td>...</td>\n      <td>0.1760</td>\n      <td>138.079</td>\n      <td>audio_features</td>\n      <td>3Rl26h1HiMCV0HFHHVb2IM</td>\n      <td>spotify:track:3Rl26h1HiMCV0HFHHVb2IM</td>\n      <td>https://api.spotify.com/v1/tracks/3Rl26h1HiMCV...</td>\n      <td>https://api.spotify.com/v1/audio-analysis/3Rl2...</td>\n      <td>437577</td>\n      <td>4</td>\n      <td>1</td>\n    </tr>\n    <tr>\n      <th>4</th>\n      <td>Intro</td>\n      <td>spotify:track:6XDFFeinPXgy3auyC7huoC</td>\n      <td>49</td>\n      <td>M83</td>\n      <td>70</td>\n      <td>[french shoegaze, french synthpop, indietronic...</td>\n      <td>0.408</td>\n      <td>0.7600</td>\n      <td>6</td>\n      <td>-6.844</td>\n      <td>...</td>\n      <td>0.0380</td>\n      <td>105.008</td>\n      <td>audio_features</td>\n      <td>6XDFFeinPXgy3auyC7huoC</td>\n      <td>spotify:track:6XDFFeinPXgy3auyC7huoC</td>\n      <td>https://api.spotify.com/v1/tracks/6XDFFeinPXgy...</td>\n      <td>https://api.spotify.com/v1/audio-analysis/6XDF...</td>\n      <td>322760</td>\n      <td>4</td>\n      <td>1</td>\n    </tr>\n    <tr>\n      <th>5</th>\n      <td>Closetowhy</td>\n      <td>spotify:track:6ynpjKUatAPVLmfgzTXvOG</td>\n      <td>44</td>\n      <td>Parcels</td>\n      <td>64</td>\n      <td>[aussietronica, indie soul]</td>\n      <td>0.855</td>\n      <td>0.5780</td>\n      <td>1</td>\n      <td>-11.366</td>\n      <td>...</td>\n      <td>0.4490</td>\n      <td>109.995</td>\n      <td>audio_features</td>\n      <td>6ynpjKUatAPVLmfgzTXvOG</td>\n      <td>spotify:track:6ynpjKUatAPVLmfgzTXvOG</td>\n      <td>https://api.spotify.com/v1/tracks/6ynpjKUatAPV...</td>\n      <td>https://api.spotify.com/v1/audio-analysis/6ynp...</td>\n      <td>330866</td>\n      <td>4</td>\n      <td>1</td>\n    </tr>\n    <tr>\n      <th>6</th>\n      <td>Dr. Ford</td>\n      <td>spotify:track:1pm8TqG9dNIcMGTQNzjYh9</td>\n      <td>50</td>\n      <td>Ramin Djawadi</td>\n      <td>66</td>\n      <td>[german soundtrack, orchestral soundtrack, sco...</td>\n      <td>0.214</td>\n      <td>0.0732</td>\n      <td>11</td>\n      <td>-18.331</td>\n      <td>...</td>\n      <td>0.0379</td>\n      <td>130.013</td>\n      <td>audio_features</td>\n      <td>1pm8TqG9dNIcMGTQNzjYh9</td>\n      <td>spotify:track:1pm8TqG9dNIcMGTQNzjYh9</td>\n      <td>https://api.spotify.com/v1/tracks/1pm8TqG9dNIc...</td>\n      <td>https://api.spotify.com/v1/audio-analysis/1pm8...</td>\n      <td>330238</td>\n      <td>4</td>\n      <td>1</td>\n    </tr>\n    <tr>\n      <th>7</th>\n      <td>TRAITOR</td>\n      <td>spotify:track:3HpJISqibQolpRzAWjBbnP</td>\n      <td>45</td>\n      <td>KOHTA YAMAMOTO</td>\n      <td>51</td>\n      <td>[]</td>\n      <td>0.487</td>\n      <td>0.6930</td>\n      <td>2</td>\n      <td>-10.906</td>\n      <td>...</td>\n      <td>0.0689</td>\n      <td>104.980</td>\n      <td>audio_features</td>\n      <td>3HpJISqibQolpRzAWjBbnP</td>\n      <td>spotify:track:3HpJISqibQolpRzAWjBbnP</td>\n      <td>https://api.spotify.com/v1/tracks/3HpJISqibQol...</td>\n      <td>https://api.spotify.com/v1/audio-analysis/3HpJ...</td>\n      <td>287320</td>\n      <td>4</td>\n      <td>1</td>\n    </tr>\n    <tr>\n      <th>8</th>\n      <td>Change the Times</td>\n      <td>spotify:track:5iRhXmdfV03kDNEB3FRb8e</td>\n      <td>43</td>\n      <td>Visit Neptune</td>\n      <td>24</td>\n      <td>[]</td>\n      <td>0.426</td>\n      <td>0.7630</td>\n      <td>1</td>\n      <td>-10.937</td>\n      <td>...</td>\n      <td>0.3880</td>\n      <td>148.981</td>\n      <td>audio_features</td>\n      <td>5iRhXmdfV03kDNEB3FRb8e</td>\n      <td>spotify:track:5iRhXmdfV03kDNEB3FRb8e</td>\n      <td>https://api.spotify.com/v1/tracks/5iRhXmdfV03k...</td>\n      <td>https://api.spotify.com/v1/audio-analysis/5iRh...</td>\n      <td>180000</td>\n      <td>4</td>\n      <td>1</td>\n    </tr>\n    <tr>\n      <th>9</th>\n      <td>Deutschland</td>\n      <td>spotify:track:2bPGTMB5sFfFYQ2YvSmup0</td>\n      <td>79</td>\n      <td>Rammstein</td>\n      <td>78</td>\n      <td>[german metal, industrial, industrial metal, i...</td>\n      <td>0.521</td>\n      <td>0.8950</td>\n      <td>7</td>\n      <td>-5.242</td>\n      <td>...</td>\n      <td>0.2370</td>\n      <td>120.117</td>\n      <td>audio_features</td>\n      <td>2bPGTMB5sFfFYQ2YvSmup0</td>\n      <td>spotify:track:2bPGTMB5sFfFYQ2YvSmup0</td>\n      <td>https://api.spotify.com/v1/tracks/2bPGTMB5sFfF...</td>\n      <td>https://api.spotify.com/v1/audio-analysis/2bPG...</td>\n      <td>322340</td>\n      <td>4</td>\n      <td>1</td>\n    </tr>\n    <tr>\n      <th>10</th>\n      <td>Paul's Dream</td>\n      <td>spotify:track:1Qr17u2S9kNDzTeWAJCY5N</td>\n      <td>56</td>\n      <td>Hans Zimmer</td>\n      <td>76</td>\n      <td>[german soundtrack, orchestral soundtrack, sou...</td>\n      <td>0.184</td>\n      <td>0.2220</td>\n      <td>7</td>\n      <td>-12.428</td>\n      <td>...</td>\n      <td>0.0356</td>\n      <td>114.592</td>\n      <td>audio_features</td>\n      <td>1Qr17u2S9kNDzTeWAJCY5N</td>\n      <td>spotify:track:1Qr17u2S9kNDzTeWAJCY5N</td>\n      <td>https://api.spotify.com/v1/tracks/1Qr17u2S9kND...</td>\n      <td>https://api.spotify.com/v1/audio-analysis/1Qr1...</td>\n      <td>423310</td>\n      <td>3</td>\n      <td>1</td>\n    </tr>\n    <tr>\n      <th>11</th>\n      <td>Catch Me (feat. Naaz)</td>\n      <td>spotify:track:4UIAJ1WnUvAPPdkzq2rn1i</td>\n      <td>53</td>\n      <td>Yellow Claw</td>\n      <td>60</td>\n      <td>[dutch house, edm, electro house, pop dance]</td>\n      <td>0.560</td>\n      <td>0.9160</td>\n      <td>7</td>\n      <td>-3.328</td>\n      <td>...</td>\n      <td>0.5850</td>\n      <td>144.933</td>\n      <td>audio_features</td>\n      <td>4UIAJ1WnUvAPPdkzq2rn1i</td>\n      <td>spotify:track:4UIAJ1WnUvAPPdkzq2rn1i</td>\n      <td>https://api.spotify.com/v1/tracks/4UIAJ1WnUvAP...</td>\n      <td>https://api.spotify.com/v1/audio-analysis/4UIA...</td>\n      <td>162383</td>\n      <td>4</td>\n      <td>1</td>\n    </tr>\n    <tr>\n      <th>12</th>\n      <td>Liar</td>\n      <td>spotify:track:7EUhSxz4srS8pqh1cENbLB</td>\n      <td>61</td>\n      <td>Paramore</td>\n      <td>77</td>\n      <td>[candy pop, modern rock, pixie, pop, pop emo, ...</td>\n      <td>0.512</td>\n      <td>0.4540</td>\n      <td>6</td>\n      <td>-11.993</td>\n      <td>...</td>\n      <td>0.2700</td>\n      <td>148.012</td>\n      <td>audio_features</td>\n      <td>7EUhSxz4srS8pqh1cENbLB</td>\n      <td>spotify:track:7EUhSxz4srS8pqh1cENbLB</td>\n      <td>https://api.spotify.com/v1/tracks/7EUhSxz4srS8...</td>\n      <td>https://api.spotify.com/v1/audio-analysis/7EUh...</td>\n      <td>261869</td>\n      <td>4</td>\n      <td>1</td>\n    </tr>\n    <tr>\n      <th>13</th>\n      <td>Remember me</td>\n      <td>spotify:track:1kCF1WET7woJ5968zEDw7d</td>\n      <td>51</td>\n      <td>Leslie Parrish</td>\n      <td>46</td>\n      <td>[eurobeat, super eurobeat]</td>\n      <td>0.578</td>\n      <td>0.9840</td>\n      <td>5</td>\n      <td>-5.973</td>\n      <td>...</td>\n      <td>0.9600</td>\n      <td>153.773</td>\n      <td>audio_features</td>\n      <td>1kCF1WET7woJ5968zEDw7d</td>\n      <td>spotify:track:1kCF1WET7woJ5968zEDw7d</td>\n      <td>https://api.spotify.com/v1/tracks/1kCF1WET7woJ...</td>\n      <td>https://api.spotify.com/v1/audio-analysis/1kCF...</td>\n      <td>158309</td>\n      <td>5</td>\n      <td>1</td>\n    </tr>\n    <tr>\n      <th>14</th>\n      <td>The Right Stuff</td>\n      <td>spotify:track:6jBbj4bWSI0y8OtLxcv9DT</td>\n      <td>4</td>\n      <td>Bryan Ferry</td>\n      <td>57</td>\n      <td>[glam rock, melancholia, new romantic, new wav...</td>\n      <td>0.616</td>\n      <td>0.9350</td>\n      <td>7</td>\n      <td>-6.159</td>\n      <td>...</td>\n      <td>0.6920</td>\n      <td>101.281</td>\n      <td>audio_features</td>\n      <td>6jBbj4bWSI0y8OtLxcv9DT</td>\n      <td>spotify:track:6jBbj4bWSI0y8OtLxcv9DT</td>\n      <td>https://api.spotify.com/v1/tracks/6jBbj4bWSI0y...</td>\n      <td>https://api.spotify.com/v1/audio-analysis/6jBb...</td>\n      <td>263333</td>\n      <td>4</td>\n      <td>1</td>\n    </tr>\n  </tbody>\n</table>\n<p>15 rows × 25 columns</p>\n</div>"
     },
     "execution_count": 189,
     "metadata": {},
     "output_type": "execute_result"
    }
   ],
   "source": [
    "\n",
    "for curr_uri in track_uris:\n",
    "    row = []\n",
    "    track = sp.track(curr_uri)\n",
    "    row.append(track[\"name\"])\n",
    "    row.append(curr_uri)\n",
    "    track_pop = row.append(track[\"popularity\"])\n",
    "    artist_uri = track[\"artists\"][0][\"uri\"]\n",
    "    artist_info = sp.artist(artist_uri) \n",
    "    #Name, popularity, genre\n",
    "    artist_name = row.append(track[\"artists\"][0][\"name\"])\n",
    "    artist_pop = row.append(artist_info[\"popularity\"])\n",
    "    artist_genres = row.append(artist_info[\"genres\"])\n",
    "    \n",
    "    features = sp.audio_features(curr_uri)[0]\n",
    "    # print(features)\n",
    "    \n",
    "    row.extend(list(features.values()))\n",
    "    row.append(1)\n",
    "    \n",
    "    new_row = pd.DataFrame([row], columns=df.columns)\n",
    "    \n",
    "    # Append the new row to df\n",
    "    df = pd.concat([df, new_row], ignore_index=True)\n",
    "\n",
    "df"
   ],
   "metadata": {
    "collapsed": false,
    "ExecuteTime": {
     "end_time": "2024-02-27T03:39:59.550120Z",
     "start_time": "2024-02-27T03:39:54.697884100Z"
    }
   },
   "id": "cfeeb53e4b5fd0a4"
  },
  {
   "cell_type": "code",
   "execution_count": 190,
   "outputs": [
    {
     "ename": "AttributeError",
     "evalue": "module 'pandas' has no attribute 'read'",
     "output_type": "error",
     "traceback": [
      "\u001B[1;31m---------------------------------------------------------------------------\u001B[0m",
      "\u001B[1;31mAttributeError\u001B[0m                            Traceback (most recent call last)",
      "Cell \u001B[1;32mIn[190], line 23\u001B[0m\n\u001B[0;32m     20\u001B[0m     \u001B[38;5;66;03m#Popularity of the track\u001B[39;00m\n\u001B[0;32m     21\u001B[0m     track_pop \u001B[38;5;241m=\u001B[39m track[\u001B[38;5;124m\"\u001B[39m\u001B[38;5;124mtrack\u001B[39m\u001B[38;5;124m\"\u001B[39m][\u001B[38;5;124m\"\u001B[39m\u001B[38;5;124mpopularity\u001B[39m\u001B[38;5;124m\"\u001B[39m]\n\u001B[1;32m---> 23\u001B[0m df \u001B[38;5;241m=\u001B[39m \u001B[43mpd\u001B[49m\u001B[38;5;241;43m.\u001B[39;49m\u001B[43mread\u001B[49m\n",
      "\u001B[1;31mAttributeError\u001B[0m: module 'pandas' has no attribute 'read'"
     ]
    }
   ],
   "source": [
    "for track in sp.playlist_tracks(playlist_URI)[\"items\"]:\n",
    "    #URI\n",
    "    track_uri = track[\"track\"][\"uri\"]\n",
    "    \n",
    "    #Track name\n",
    "    track_name = track[\"track\"][\"name\"]\n",
    "    \n",
    "    #Main Artist\n",
    "    artist_uri = track[\"track\"][\"artists\"][0][\"uri\"]\n",
    "    artist_info = sp.artist(artist_uri)\n",
    "    \n",
    "    #Name, popularity, genre\n",
    "    artist_name = track[\"track\"][\"artists\"][0][\"name\"]\n",
    "    artist_pop = artist_info[\"popularity\"]\n",
    "    artist_genres = artist_info[\"genres\"]\n",
    "    \n",
    "    #Album\n",
    "    album = track[\"track\"][\"album\"][\"name\"]\n",
    "    \n",
    "    #Popularity of the track\n",
    "    track_pop = track[\"track\"][\"popularity\"]\n",
    "    \n",
    "df = pd.read"
   ],
   "metadata": {
    "collapsed": false,
    "ExecuteTime": {
     "end_time": "2024-02-27T03:40:01.232668100Z",
     "start_time": "2024-02-27T03:39:59.550120Z"
    }
   },
   "id": "4d18cc508a5f7215"
  },
  {
   "cell_type": "code",
   "execution_count": null,
   "outputs": [],
   "source": [
    "features_df = pd.DataFrame.from_dict(track0, orient=\"columns\")\n",
    "features_df"
   ],
   "metadata": {
    "collapsed": false,
    "ExecuteTime": {
     "start_time": "2024-02-27T03:40:01.240392900Z"
    }
   },
   "id": "72c7c1a99fc76698"
  }
 ],
 "metadata": {
  "kernelspec": {
   "display_name": "Python 3",
   "language": "python",
   "name": "python3"
  },
  "language_info": {
   "codemirror_mode": {
    "name": "ipython",
    "version": 2
   },
   "file_extension": ".py",
   "mimetype": "text/x-python",
   "name": "python",
   "nbconvert_exporter": "python",
   "pygments_lexer": "ipython2",
   "version": "2.7.6"
  }
 },
 "nbformat": 4,
 "nbformat_minor": 5
}
